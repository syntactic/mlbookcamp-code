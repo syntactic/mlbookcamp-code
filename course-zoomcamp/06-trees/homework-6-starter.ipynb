{
 "cells": [
  {
   "cell_type": "markdown",
   "metadata": {},
   "source": [
    "## 6.10 Homework\n",
    "\n",
    "The goal of this homework is to create a tree-based regression model for prediction apartment prices (column `'price'`).\n",
    "\n",
    "In this homework we'll again use the New York City Airbnb Open Data dataset - the same one we used in homework 2 and 3.\n",
    "\n",
    "You can take it from [Kaggle](https://www.kaggle.com/dgomonov/new-york-city-airbnb-open-data?select=AB_NYC_2019.csv)\n",
    "or download from [here](https://raw.githubusercontent.com/alexeygrigorev/datasets/master/AB_NYC_2019.csv)\n",
    "if you don't want to sign up to Kaggle.\n",
    "\n",
    "Let's load the data:"
   ]
  },
  {
   "cell_type": "code",
   "execution_count": 3,
   "metadata": {},
   "outputs": [],
   "source": [
    "import pandas as pd\n",
    "import numpy as np\n",
    "\n",
    "import matplotlib.pyplot as plt\n",
    "import seaborn as sns\n",
    "\n",
    "%matplotlib inline"
   ]
  },
  {
   "cell_type": "code",
   "execution_count": 4,
   "metadata": {},
   "outputs": [
    {
     "name": "stdout",
     "output_type": "stream",
     "text": [
      "--2021-10-17 22:55:16--  https://raw.githubusercontent.com/alexeygrigorev/datasets/master/AB_NYC_2019.csv\n",
      "Resolving raw.githubusercontent.com (raw.githubusercontent.com)... failed: nodename nor servname provided, or not known.\n",
      "wget: unable to resolve host address ‘raw.githubusercontent.com’\n"
     ]
    }
   ],
   "source": [
    "columns = [\n",
    "    'neighbourhood_group', 'room_type', 'latitude', 'longitude',\n",
    "    'minimum_nights', 'number_of_reviews','reviews_per_month',\n",
    "    'calculated_host_listings_count', 'availability_365',\n",
    "    'price'\n",
    "]\n",
    "!wget \"https://raw.githubusercontent.com/alexeygrigorev/datasets/master/AB_NYC_2019.csv\"\n",
    "df = pd.read_csv('AB_NYC_2019.csv', usecols=columns)\n",
    "df.reviews_per_month = df.reviews_per_month.fillna(0)"
   ]
  },
  {
   "cell_type": "markdown",
   "metadata": {},
   "source": [
    "* Apply the log tranform to `price`\n",
    "* Do train/validation/test split with 60%/20%/20% distribution. \n",
    "* Use the `train_test_split` function and set the `random_state` parameter to 1"
   ]
  },
  {
   "cell_type": "code",
   "execution_count": 5,
   "metadata": {},
   "outputs": [],
   "source": [
    "import pandas as pd\n",
    "from sklearn.feature_extraction import DictVectorizer\n",
    "from sklearn.model_selection import train_test_split\n",
    "df.price = np.log1p(df['price'])\n",
    "train_val, test = train_test_split(df, test_size=0.2, random_state = 1)\n",
    "train, val = train_test_split(train_val, test_size = 0.25, random_state =1)\n",
    "\n",
    "train_y = train['price']\n",
    "del train['price']\n",
    "val_y = val['price']\n",
    "del val['price']\n",
    "test_y = test['price']\n",
    "del test['price']"
   ]
  },
  {
   "cell_type": "markdown",
   "metadata": {},
   "source": [
    "Now, use `DictVectorizer` to turn train and validation into matrices:"
   ]
  },
  {
   "cell_type": "code",
   "execution_count": null,
   "metadata": {},
   "outputs": [],
   "source": []
  },
  {
   "cell_type": "code",
   "execution_count": 6,
   "metadata": {},
   "outputs": [],
   "source": [
    "dv = DictVectorizer(sparse=False)\n",
    "train_dict = train.to_dict(orient='records')\n",
    "val_dict = val.to_dict(orient='records')\n",
    "test_dict = test.to_dict(orient='records')\n",
    "train_X = dv.fit_transform(train_dict)\n",
    "val_X = dv.transform(val_dict)\n",
    "test_X = dv.transform(test_dict)"
   ]
  },
  {
   "cell_type": "markdown",
   "metadata": {},
   "source": [
    "## Question 1\n",
    "\n",
    "Let's train a decision tree regressor to predict the price variable. \n",
    "\n",
    "* Train a model with `max_depth=1`"
   ]
  },
  {
   "cell_type": "code",
   "execution_count": 7,
   "metadata": {},
   "outputs": [],
   "source": [
    "from sklearn.tree import DecisionTreeRegressor\n",
    "from sklearn.metrics import roc_auc_score\n",
    "dt = DecisionTreeRegressor(max_depth=1)"
   ]
  },
  {
   "cell_type": "code",
   "execution_count": 8,
   "metadata": {},
   "outputs": [
    {
     "data": {
      "text/plain": [
       "DecisionTreeRegressor(ccp_alpha=0.0, criterion='mse', max_depth=1,\n",
       "                      max_features=None, max_leaf_nodes=None,\n",
       "                      min_impurity_decrease=0.0, min_impurity_split=None,\n",
       "                      min_samples_leaf=1, min_samples_split=2,\n",
       "                      min_weight_fraction_leaf=0.0, presort='deprecated',\n",
       "                      random_state=None, splitter='best')"
      ]
     },
     "execution_count": 8,
     "metadata": {},
     "output_type": "execute_result"
    }
   ],
   "source": [
    "dt.fit(train_X, train_y.values)"
   ]
  },
  {
   "cell_type": "code",
   "execution_count": 9,
   "metadata": {},
   "outputs": [
    {
     "name": "stdout",
     "output_type": "stream",
     "text": [
      "[0. 0. 0. 0. 0. 0. 0. 0. 0. 0. 0. 0. 1. 0. 0.]\n",
      "['availability_365', 'calculated_host_listings_count', 'latitude', 'longitude', 'minimum_nights', 'neighbourhood_group=Bronx', 'neighbourhood_group=Brooklyn', 'neighbourhood_group=Manhattan', 'neighbourhood_group=Queens', 'neighbourhood_group=Staten Island', 'number_of_reviews', 'reviews_per_month', 'room_type=Entire home/apt', 'room_type=Private room', 'room_type=Shared room']\n"
     ]
    }
   ],
   "source": [
    "print(dt.feature_importances_)\n",
    "print(dv.feature_names_)\n"
   ]
  },
  {
   "cell_type": "markdown",
   "metadata": {},
   "source": [
    "Which feature is used for splitting the data?\n",
    "\n",
    "* `room_type`\n",
    "* `neighbourhood_group`\n",
    "* `number_of_reviews`\n",
    "* `reviews_per_month`"
   ]
  },
  {
   "cell_type": "markdown",
   "metadata": {},
   "source": [
    "## Question 2\n",
    "\n",
    "Train a random forest model with these parameters:\n",
    "\n",
    "* `n_estimators=10`\n",
    "* `random_state=1`\n",
    "* `n_jobs=-1`  (optional - to make training faster)"
   ]
  },
  {
   "cell_type": "code",
   "execution_count": 10,
   "metadata": {},
   "outputs": [
    {
     "name": "stdout",
     "output_type": "stream",
     "text": [
      "0.21239922245530993 0.46086790130720745\n"
     ]
    }
   ],
   "source": [
    "from sklearn.ensemble import RandomForestRegressor\n",
    "from sklearn.metrics import mean_squared_error\n",
    "rf = RandomForestRegressor(n_estimators=10, random_state=1, n_jobs=-1)\n",
    "rf.fit(train_X, train_y)\n",
    "\n",
    "val_pred = rf.predict(val_X)\n",
    "\n",
    "mse = mean_squared_error(val_y, val_pred)\n",
    "rmse = mse ** (0.5)\n",
    "print(mse, rmse)"
   ]
  },
  {
   "cell_type": "markdown",
   "metadata": {},
   "source": [
    "What's the RMSE of this model on validation?\n",
    "\n",
    "* 0.059\n",
    "* 0.259\n",
    "* 0.459\n",
    "* 0.659"
   ]
  },
  {
   "cell_type": "markdown",
   "metadata": {},
   "source": [
    "## Question 3\n",
    "\n",
    "Now let's experiment with the `n_estimators` parameter\n",
    "\n",
    "* Try different values of this parameter from 10 to 200 with step 10\n",
    "* Set `random_state` to `1`\n",
    "* Evaluate the model on the validation dataset"
   ]
  },
  {
   "cell_type": "code",
   "execution_count": 11,
   "metadata": {},
   "outputs": [
    {
     "name": "stdout",
     "output_type": "stream",
     "text": [
      "[ 10  20  30  40  50  60  70  80  90 100 110 120 130 140 150 160 170 180\n",
      " 190 200]\n"
     ]
    }
   ],
   "source": [
    "n_estimators = np.arange(10, 201, 10)\n",
    "print(n_estimators)\n",
    "\n",
    "rmses = []\n",
    "for n_estimator in n_estimators:\n",
    "    rf = RandomForestRegressor(n_estimators=n_estimator, random_state=1, n_jobs=-1)\n",
    "    rf.fit(train_X, train_y)\n",
    "    \n",
    "    val_pred = rf.predict(val_X)\n",
    "    mse = mean_squared_error(val_y, val_pred)\n",
    "    rmse = mse ** (0.5)\n",
    "    rmses.append((n_estimator, rmse))"
   ]
  },
  {
   "cell_type": "code",
   "execution_count": 12,
   "metadata": {},
   "outputs": [
    {
     "name": "stdout",
     "output_type": "stream",
     "text": [
      "[[ 10.      0.461]\n",
      " [ 20.      0.447]\n",
      " [ 30.      0.444]\n",
      " [ 40.      0.443]\n",
      " [ 50.      0.442]\n",
      " [ 60.      0.441]\n",
      " [ 70.      0.441]\n",
      " [ 80.      0.441]\n",
      " [ 90.      0.44 ]\n",
      " [100.      0.44 ]\n",
      " [110.      0.439]\n",
      " [120.      0.439]\n",
      " [130.      0.439]\n",
      " [140.      0.439]\n",
      " [150.      0.439]\n",
      " [160.      0.439]\n",
      " [170.      0.439]\n",
      " [180.      0.439]\n",
      " [190.      0.439]\n",
      " [200.      0.439]]\n"
     ]
    }
   ],
   "source": [
    "print(np.round(rmses, 3))"
   ]
  },
  {
   "cell_type": "markdown",
   "metadata": {},
   "source": [
    "After which value of `n_estimators` does RMSE stop improving?\n",
    "\n",
    "- 10\n",
    "- 50\n",
    "- 70\n",
    "- 120"
   ]
  },
  {
   "cell_type": "markdown",
   "metadata": {},
   "source": [
    "## Question 4\n",
    "\n",
    "Let's select the best `max_depth`:\n",
    "\n",
    "* Try different values of `max_depth`: `[10, 15, 20, 25]`\n",
    "* For each of these values, try different values of `n_estimators` from 10 till 200 (with step 10)\n",
    "* Fix the random seed: `random_state=1`"
   ]
  },
  {
   "cell_type": "code",
   "execution_count": 13,
   "metadata": {},
   "outputs": [],
   "source": [
    "max_depths = np.array([10, 15 ,20, 25])\n",
    "n_estimators = np.arange(10, 201, 10)\n",
    "rmses = []\n",
    "for max_depth in max_depths:\n",
    "    for n_estimator in n_estimators:\n",
    "        rf = RandomForestRegressor(n_estimators=n_estimator, max_depth=max_depth, random_state=1, n_jobs=-1)\n",
    "        rf.fit(train_X, train_y)\n",
    "    \n",
    "        val_pred = rf.predict(val_X)\n",
    "        mse = mean_squared_error(val_y, val_pred)\n",
    "        rmse = mse ** (0.5)\n",
    "        rmses.append((max_depth, n_estimator, rmse))\n",
    "        \n"
   ]
  },
  {
   "cell_type": "code",
   "execution_count": 14,
   "metadata": {},
   "outputs": [
    {
     "name": "stdout",
     "output_type": "stream",
     "text": [
      "(10, 10, 0.4452143747042935)\n",
      "(10, 20, 0.44186025446736055)\n",
      "(10, 30, 0.44119702899693847)\n",
      "(10, 40, 0.4412961755096089)\n",
      "(10, 50, 0.44094334533104307)\n",
      "(10, 60, 0.4410092231841634)\n",
      "(10, 70, 0.440805067072908)\n",
      "(10, 80, 0.4406687544140446)\n",
      "(10, 90, 0.44038357073730117)\n",
      "(10, 100, 0.4401528976805655)\n",
      "(10, 110, 0.44009660818755353)\n",
      "(10, 120, 0.43987740067533315)\n",
      "(10, 130, 0.4399162343095045)\n",
      "(10, 140, 0.4399110603581997)\n",
      "(10, 150, 0.43973464764653036)\n",
      "(10, 160, 0.43968677200268014)\n",
      "(10, 170, 0.4396630337408857)\n",
      "(10, 180, 0.43978564033104756)\n",
      "(10, 190, 0.43972758422457403)\n",
      "(10, 200, 0.4397243291806476)\n",
      "(15, 10, 0.45031956641701915)\n",
      "(15, 20, 0.4411594782927354)\n",
      "(15, 30, 0.43957294137292663)\n",
      "(15, 40, 0.43878049796761576)\n",
      "(15, 50, 0.4380556774400964)\n",
      "(15, 60, 0.4377240141366398)\n",
      "(15, 70, 0.43732890888456977)\n",
      "(15, 80, 0.437187281858576)\n",
      "(15, 90, 0.43672813376233555)\n",
      "(15, 100, 0.4364144325084769)\n",
      "(15, 110, 0.4361411926004894)\n",
      "(15, 120, 0.43613457181897897)\n",
      "(15, 130, 0.43619977849712344)\n",
      "(15, 140, 0.43612666004269895)\n",
      "(15, 150, 0.4361370259996394)\n",
      "(15, 160, 0.43595202512352194)\n",
      "(15, 170, 0.4358658024366119)\n",
      "(15, 180, 0.43606074077224627)\n",
      "(15, 190, 0.43605242804613953)\n",
      "(15, 200, 0.43601900940808874)\n",
      "(20, 10, 0.45810792478443)\n",
      "(20, 20, 0.44574354451045706)\n",
      "(20, 30, 0.44360729608046506)\n",
      "(20, 40, 0.4420989222025766)\n",
      "(20, 50, 0.44078258494399275)\n",
      "(20, 60, 0.4401525338593741)\n",
      "(20, 70, 0.43963600392035335)\n",
      "(20, 80, 0.43963047532072885)\n",
      "(20, 90, 0.43893459647679134)\n",
      "(20, 100, 0.4385517325657228)\n",
      "(20, 110, 0.438158685029002)\n",
      "(20, 120, 0.4379632639471876)\n",
      "(20, 130, 0.43795922014785277)\n",
      "(20, 140, 0.4377640166827791)\n",
      "(20, 150, 0.43777065541888144)\n",
      "(20, 160, 0.4376344582575015)\n",
      "(20, 170, 0.4375711473600015)\n",
      "(20, 180, 0.4376672875962311)\n",
      "(20, 190, 0.43759786172664944)\n",
      "(20, 200, 0.4376308669225607)\n",
      "(25, 10, 0.4609439253699308)\n",
      "(25, 20, 0.44738341702397383)\n",
      "(25, 30, 0.44441918443573036)\n",
      "(25, 40, 0.442830093882375)\n",
      "(25, 50, 0.4421351326919019)\n",
      "(25, 60, 0.4414782560772321)\n",
      "(25, 70, 0.440769400609332)\n",
      "(25, 80, 0.44072242329987443)\n",
      "(25, 90, 0.44016373071969117)\n",
      "(25, 100, 0.4398921764008718)\n",
      "(25, 110, 0.4393734134291936)\n",
      "(25, 120, 0.4391526126876699)\n",
      "(25, 130, 0.4391893113380113)\n",
      "(25, 140, 0.43903068757413605)\n",
      "(25, 150, 0.43894361488292)\n",
      "(25, 160, 0.43878885818356844)\n",
      "(25, 170, 0.43861506643811765)\n",
      "(25, 180, 0.43873404071240696)\n",
      "(25, 190, 0.43864211735548825)\n",
      "(25, 200, 0.4385887296598882)\n",
      "(15, 170, 0.4358658024366119)\n"
     ]
    }
   ],
   "source": [
    "smallest = None\n",
    "for rmse in rmses:\n",
    "    if smallest == None:\n",
    "        smallest = rmse\n",
    "    if rmse[2] < smallest[2]:\n",
    "        smallest = rmse\n",
    "    print(rmse)\n",
    "\n",
    "print(smallest)"
   ]
  },
  {
   "cell_type": "markdown",
   "metadata": {},
   "source": [
    "What's the best `max_depth`:\n",
    "\n",
    "* 10\n",
    "* 15\n",
    "* 20\n",
    "* 25\n",
    "\n",
    "Bonus question (not graded):\n",
    "\n",
    "Will the answer be different if we change the seed for the model?"
   ]
  },
  {
   "cell_type": "markdown",
   "metadata": {},
   "source": [
    "## Question 5\n",
    "\n",
    "We can extract feature importance information from tree-based models. \n",
    "\n",
    "At each step of the decision tree learning algorith, it finds the best split. \n",
    "When doint it, we can calculate \"gain\" - the reduction in impurity before and after the split. \n",
    "This gain is quite useful in understanding what are the imporatant features \n",
    "for tree-based models.\n",
    "\n",
    "In Scikit-Learn, tree-based models contain this information in the `feature_importances_` field. \n",
    "\n",
    "For this homework question, we'll find the most important feature:\n",
    "\n",
    "* Train the model with these parametes:\n",
    "    * `n_estimators=10`,\n",
    "    * `max_depth=20`,\n",
    "    * `random_state=1`,\n",
    "    * `n_jobs=-1` (optional)\n",
    "* Get the feature importance information from this model"
   ]
  },
  {
   "cell_type": "code",
   "execution_count": 15,
   "metadata": {},
   "outputs": [
    {
     "name": "stdout",
     "output_type": "stream",
     "text": [
      "[(0.0001265046108617081, 'neighbourhood_group=Staten Island'), (0.00024589339434527964, 'neighbourhood_group=Bronx'), (0.0011030640502402431, 'neighbourhood_group=Brooklyn'), (0.001162209878223539, 'neighbourhood_group=Queens'), (0.00448830752851972, 'room_type=Shared room'), (0.004576840746812983, 'room_type=Private room'), (0.030950509087841915, 'calculated_host_listings_count'), (0.03413554841532696, 'neighbourhood_group=Manhattan'), (0.04304398048096192, 'number_of_reviews'), (0.052659710954611125, 'reviews_per_month'), (0.053666576448405945, 'minimum_nights'), (0.07633571528032984, 'availability_365'), (0.15201924532350514, 'latitude'), (0.15358906161021973, 'longitude'), (0.391896832189794, 'room_type=Entire home/apt')]\n"
     ]
    }
   ],
   "source": [
    "rf = RandomForestRegressor(n_estimators=10, max_depth=20, random_state=1, n_jobs=-1)\n",
    "rf.fit(train_X, train_y)\n",
    "features = list(zip(rf.feature_importances_, dv.feature_names_))\n",
    "print(sorted(features, key=lambda x : x[0]))"
   ]
  },
  {
   "cell_type": "markdown",
   "metadata": {},
   "source": [
    "What's the most important feature? \n",
    "\n",
    "* `neighbourhood_group=Manhattan`\n",
    "* `room_type=Entire home/apt`\t\n",
    "* `longitude`\n",
    "* `latitude`"
   ]
  },
  {
   "cell_type": "markdown",
   "metadata": {},
   "source": [
    "## Question 6"
   ]
  },
  {
   "cell_type": "markdown",
   "metadata": {},
   "source": [
    "Now let's train an XGBoost model! For this question, we'll tune the `eta` parameter\n",
    "\n",
    "* Install XGBoost\n",
    "* Create DMatrix for train and validation\n",
    "* Create a watchlist\n",
    "* Train a model with these parameters for 100 rounds:\n",
    "\n",
    "```\n",
    "xgb_params = {\n",
    "    'eta': 0.3, \n",
    "    'max_depth': 6,\n",
    "    'min_child_weight': 1,\n",
    "    \n",
    "    'objective': 'reg:squarederror',\n",
    "    'nthread': 8,\n",
    "    \n",
    "    'seed': 1,\n",
    "    'verbosity': 1,\n",
    "}\n",
    "```"
   ]
  },
  {
   "cell_type": "code",
   "execution_count": 20,
   "metadata": {},
   "outputs": [
    {
     "name": "stdout",
     "output_type": "stream",
     "text": [
      "[0]\ttrain-rmse:3.02752\tval-rmse:3.02415\n",
      "[1]\ttrain-rmse:2.14667\tval-rmse:2.14390\n",
      "[2]\ttrain-rmse:1.53878\tval-rmse:1.53721\n",
      "[3]\ttrain-rmse:1.12557\tval-rmse:1.12523\n",
      "[4]\ttrain-rmse:0.85100\tval-rmse:0.85174\n",
      "[5]\ttrain-rmse:0.67490\tval-rmse:0.67752\n",
      "[6]\ttrain-rmse:0.56687\tval-rmse:0.57148\n",
      "[7]\ttrain-rmse:0.50448\tval-rmse:0.51139\n",
      "[8]\ttrain-rmse:0.46913\tval-rmse:0.47777\n",
      "[9]\ttrain-rmse:0.45009\tval-rmse:0.45965\n",
      "[10]\ttrain-rmse:0.43912\tval-rmse:0.44981\n",
      "[11]\ttrain-rmse:0.43327\tval-rmse:0.44475\n",
      "[12]\ttrain-rmse:0.42936\tval-rmse:0.44210\n",
      "[13]\ttrain-rmse:0.42668\tval-rmse:0.44038\n",
      "[14]\ttrain-rmse:0.42463\tval-rmse:0.43943\n",
      "[15]\ttrain-rmse:0.42259\tval-rmse:0.43827\n",
      "[16]\ttrain-rmse:0.42113\tval-rmse:0.43772\n",
      "[17]\ttrain-rmse:0.42074\tval-rmse:0.43787\n",
      "[18]\ttrain-rmse:0.41896\tval-rmse:0.43744\n",
      "[19]\ttrain-rmse:0.41812\tval-rmse:0.43726\n",
      "[20]\ttrain-rmse:0.41716\tval-rmse:0.43691\n",
      "[21]\ttrain-rmse:0.41499\tval-rmse:0.43645\n",
      "[22]\ttrain-rmse:0.41437\tval-rmse:0.43611\n",
      "[23]\ttrain-rmse:0.41403\tval-rmse:0.43614\n",
      "[24]\ttrain-rmse:0.41391\tval-rmse:0.43630\n",
      "[25]\ttrain-rmse:0.41365\tval-rmse:0.43621\n",
      "[26]\ttrain-rmse:0.41272\tval-rmse:0.43628\n",
      "[27]\ttrain-rmse:0.41138\tval-rmse:0.43618\n",
      "[28]\ttrain-rmse:0.41088\tval-rmse:0.43617\n",
      "[29]\ttrain-rmse:0.40858\tval-rmse:0.43573\n",
      "[30]\ttrain-rmse:0.40712\tval-rmse:0.43543\n",
      "[31]\ttrain-rmse:0.40684\tval-rmse:0.43553\n",
      "[32]\ttrain-rmse:0.40577\tval-rmse:0.43536\n",
      "[33]\ttrain-rmse:0.40520\tval-rmse:0.43503\n",
      "[34]\ttrain-rmse:0.40503\tval-rmse:0.43500\n",
      "[35]\ttrain-rmse:0.40444\tval-rmse:0.43510\n",
      "[36]\ttrain-rmse:0.40419\tval-rmse:0.43505\n",
      "[37]\ttrain-rmse:0.40367\tval-rmse:0.43505\n",
      "[38]\ttrain-rmse:0.40183\tval-rmse:0.43473\n",
      "[39]\ttrain-rmse:0.40117\tval-rmse:0.43471\n",
      "[40]\ttrain-rmse:0.40103\tval-rmse:0.43466\n",
      "[41]\ttrain-rmse:0.39991\tval-rmse:0.43435\n",
      "[42]\ttrain-rmse:0.39905\tval-rmse:0.43395\n",
      "[43]\ttrain-rmse:0.39873\tval-rmse:0.43378\n",
      "[44]\ttrain-rmse:0.39786\tval-rmse:0.43378\n",
      "[45]\ttrain-rmse:0.39723\tval-rmse:0.43371\n",
      "[46]\ttrain-rmse:0.39665\tval-rmse:0.43381\n",
      "[47]\ttrain-rmse:0.39620\tval-rmse:0.43388\n",
      "[48]\ttrain-rmse:0.39603\tval-rmse:0.43382\n",
      "[49]\ttrain-rmse:0.39544\tval-rmse:0.43397\n",
      "[50]\ttrain-rmse:0.39446\tval-rmse:0.43384\n",
      "[51]\ttrain-rmse:0.39388\tval-rmse:0.43396\n",
      "[52]\ttrain-rmse:0.39349\tval-rmse:0.43403\n",
      "[53]\ttrain-rmse:0.39299\tval-rmse:0.43407\n",
      "[54]\ttrain-rmse:0.39205\tval-rmse:0.43396\n",
      "[55]\ttrain-rmse:0.39129\tval-rmse:0.43378\n",
      "[56]\ttrain-rmse:0.39081\tval-rmse:0.43389\n",
      "[57]\ttrain-rmse:0.38988\tval-rmse:0.43409\n",
      "[58]\ttrain-rmse:0.38864\tval-rmse:0.43395\n",
      "[59]\ttrain-rmse:0.38771\tval-rmse:0.43399\n",
      "[60]\ttrain-rmse:0.38743\tval-rmse:0.43404\n",
      "[61]\ttrain-rmse:0.38706\tval-rmse:0.43381\n",
      "[62]\ttrain-rmse:0.38621\tval-rmse:0.43391\n",
      "[63]\ttrain-rmse:0.38567\tval-rmse:0.43387\n",
      "[64]\ttrain-rmse:0.38493\tval-rmse:0.43409\n",
      "[65]\ttrain-rmse:0.38421\tval-rmse:0.43450\n",
      "[66]\ttrain-rmse:0.38372\tval-rmse:0.43474\n",
      "[67]\ttrain-rmse:0.38314\tval-rmse:0.43496\n",
      "[68]\ttrain-rmse:0.38213\tval-rmse:0.43483\n",
      "[69]\ttrain-rmse:0.38159\tval-rmse:0.43485\n",
      "[70]\ttrain-rmse:0.38117\tval-rmse:0.43467\n",
      "[71]\ttrain-rmse:0.38056\tval-rmse:0.43479\n",
      "[72]\ttrain-rmse:0.37990\tval-rmse:0.43474\n",
      "[73]\ttrain-rmse:0.37878\tval-rmse:0.43483\n",
      "[74]\ttrain-rmse:0.37843\tval-rmse:0.43488\n",
      "[75]\ttrain-rmse:0.37801\tval-rmse:0.43489\n",
      "[76]\ttrain-rmse:0.37782\tval-rmse:0.43504\n",
      "[77]\ttrain-rmse:0.37762\tval-rmse:0.43509\n",
      "[78]\ttrain-rmse:0.37757\tval-rmse:0.43506\n",
      "[79]\ttrain-rmse:0.37722\tval-rmse:0.43508\n",
      "[80]\ttrain-rmse:0.37668\tval-rmse:0.43526\n",
      "[81]\ttrain-rmse:0.37586\tval-rmse:0.43527\n",
      "[82]\ttrain-rmse:0.37500\tval-rmse:0.43545\n",
      "[83]\ttrain-rmse:0.37398\tval-rmse:0.43535\n",
      "[84]\ttrain-rmse:0.37332\tval-rmse:0.43556\n",
      "[85]\ttrain-rmse:0.37259\tval-rmse:0.43537\n",
      "[86]\ttrain-rmse:0.37222\tval-rmse:0.43552\n",
      "[87]\ttrain-rmse:0.37156\tval-rmse:0.43547\n",
      "[88]\ttrain-rmse:0.37124\tval-rmse:0.43551\n",
      "[89]\ttrain-rmse:0.37056\tval-rmse:0.43525\n",
      "[90]\ttrain-rmse:0.36998\tval-rmse:0.43539\n",
      "[91]\ttrain-rmse:0.36975\tval-rmse:0.43544\n",
      "[92]\ttrain-rmse:0.36971\tval-rmse:0.43546\n",
      "[93]\ttrain-rmse:0.36875\tval-rmse:0.43544\n",
      "[94]\ttrain-rmse:0.36798\tval-rmse:0.43560\n",
      "[95]\ttrain-rmse:0.36742\tval-rmse:0.43579\n",
      "[96]\ttrain-rmse:0.36698\tval-rmse:0.43584\n",
      "[97]\ttrain-rmse:0.36644\tval-rmse:0.43595\n",
      "[98]\ttrain-rmse:0.36582\tval-rmse:0.43597\n",
      "[99]\ttrain-rmse:0.36478\tval-rmse:0.43621\n"
     ]
    }
   ],
   "source": [
    "import xgboost as xgb\n",
    "features = dv.get_feature_names()\n",
    "dtrain = xgb.DMatrix(train_X, label=train_y, feature_names=features)\n",
    "dval = xgb.DMatrix(val_X, label=val_y, feature_names=features)\n",
    "watchlist = [(dtrain, 'train'), (dval, 'val')]\n",
    "\n",
    "xgb_params = {\n",
    "    'eta': 0.3, \n",
    "    'max_depth': 6,\n",
    "    'min_child_weight': 1,\n",
    "\n",
    "    'objective': 'reg:squarederror',\n",
    "    'nthread': 8,\n",
    "\n",
    "    'seed': 1,\n",
    "    'verbosity': 1\n",
    "}\n",
    "model = xgb.train(xgb_params, dtrain, num_boost_round=100, evals=watchlist)"
   ]
  },
  {
   "cell_type": "markdown",
   "metadata": {},
   "source": [
    "Now change `eta` first to `0.1` and then to `0.01`"
   ]
  },
  {
   "cell_type": "code",
   "execution_count": 21,
   "metadata": {},
   "outputs": [
    {
     "name": "stdout",
     "output_type": "stream",
     "text": [
      "[0]\ttrain-rmse:3.87217\tval-rmse:3.86889\n",
      "[1]\ttrain-rmse:3.49150\tval-rmse:3.48840\n",
      "[2]\ttrain-rmse:3.14949\tval-rmse:3.14635\n",
      "[3]\ttrain-rmse:2.84232\tval-rmse:2.83951\n",
      "[4]\ttrain-rmse:2.56650\tval-rmse:2.56412\n",
      "[5]\ttrain-rmse:2.31905\tval-rmse:2.31692\n",
      "[6]\ttrain-rmse:2.09714\tval-rmse:2.09526\n",
      "[7]\ttrain-rmse:1.89834\tval-rmse:1.89663\n",
      "[8]\ttrain-rmse:1.72033\tval-rmse:1.71878\n",
      "[9]\ttrain-rmse:1.56120\tval-rmse:1.55976\n",
      "[10]\ttrain-rmse:1.41910\tval-rmse:1.41786\n",
      "[11]\ttrain-rmse:1.29248\tval-rmse:1.29149\n",
      "[12]\ttrain-rmse:1.17977\tval-rmse:1.17907\n",
      "[13]\ttrain-rmse:1.07974\tval-rmse:1.07936\n",
      "[14]\ttrain-rmse:0.99113\tval-rmse:0.99118\n",
      "[15]\ttrain-rmse:0.91299\tval-rmse:0.91348\n",
      "[16]\ttrain-rmse:0.84421\tval-rmse:0.84524\n",
      "[17]\ttrain-rmse:0.78390\tval-rmse:0.78525\n",
      "[18]\ttrain-rmse:0.73111\tval-rmse:0.73308\n",
      "[19]\ttrain-rmse:0.68507\tval-rmse:0.68776\n",
      "[20]\ttrain-rmse:0.64528\tval-rmse:0.64883\n",
      "[21]\ttrain-rmse:0.61109\tval-rmse:0.61518\n",
      "[22]\ttrain-rmse:0.58175\tval-rmse:0.58648\n",
      "[23]\ttrain-rmse:0.55655\tval-rmse:0.56186\n",
      "[24]\ttrain-rmse:0.53529\tval-rmse:0.54108\n",
      "[25]\ttrain-rmse:0.51733\tval-rmse:0.52364\n",
      "[26]\ttrain-rmse:0.50209\tval-rmse:0.50888\n",
      "[27]\ttrain-rmse:0.48935\tval-rmse:0.49679\n",
      "[28]\ttrain-rmse:0.47866\tval-rmse:0.48660\n",
      "[29]\ttrain-rmse:0.46967\tval-rmse:0.47817\n",
      "[30]\ttrain-rmse:0.46186\tval-rmse:0.47101\n",
      "[31]\ttrain-rmse:0.45547\tval-rmse:0.46521\n",
      "[32]\ttrain-rmse:0.44997\tval-rmse:0.46016\n",
      "[33]\ttrain-rmse:0.44555\tval-rmse:0.45617\n",
      "[34]\ttrain-rmse:0.44168\tval-rmse:0.45277\n",
      "[35]\ttrain-rmse:0.43843\tval-rmse:0.44997\n",
      "[36]\ttrain-rmse:0.43571\tval-rmse:0.44778\n",
      "[37]\ttrain-rmse:0.43341\tval-rmse:0.44584\n",
      "[38]\ttrain-rmse:0.43126\tval-rmse:0.44400\n",
      "[39]\ttrain-rmse:0.42921\tval-rmse:0.44259\n",
      "[40]\ttrain-rmse:0.42770\tval-rmse:0.44150\n",
      "[41]\ttrain-rmse:0.42642\tval-rmse:0.44060\n",
      "[42]\ttrain-rmse:0.42515\tval-rmse:0.43983\n",
      "[43]\ttrain-rmse:0.42411\tval-rmse:0.43892\n",
      "[44]\ttrain-rmse:0.42303\tval-rmse:0.43830\n",
      "[45]\ttrain-rmse:0.42222\tval-rmse:0.43795\n",
      "[46]\ttrain-rmse:0.42123\tval-rmse:0.43730\n",
      "[47]\ttrain-rmse:0.42050\tval-rmse:0.43701\n",
      "[48]\ttrain-rmse:0.41980\tval-rmse:0.43670\n",
      "[49]\ttrain-rmse:0.41924\tval-rmse:0.43629\n",
      "[50]\ttrain-rmse:0.41868\tval-rmse:0.43589\n",
      "[51]\ttrain-rmse:0.41808\tval-rmse:0.43574\n",
      "[52]\ttrain-rmse:0.41780\tval-rmse:0.43562\n",
      "[53]\ttrain-rmse:0.41741\tval-rmse:0.43538\n",
      "[54]\ttrain-rmse:0.41694\tval-rmse:0.43537\n",
      "[55]\ttrain-rmse:0.41644\tval-rmse:0.43515\n",
      "[56]\ttrain-rmse:0.41608\tval-rmse:0.43509\n",
      "[57]\ttrain-rmse:0.41559\tval-rmse:0.43506\n",
      "[58]\ttrain-rmse:0.41501\tval-rmse:0.43488\n",
      "[59]\ttrain-rmse:0.41463\tval-rmse:0.43464\n",
      "[60]\ttrain-rmse:0.41432\tval-rmse:0.43460\n",
      "[61]\ttrain-rmse:0.41370\tval-rmse:0.43431\n",
      "[62]\ttrain-rmse:0.41343\tval-rmse:0.43426\n",
      "[63]\ttrain-rmse:0.41312\tval-rmse:0.43416\n",
      "[64]\ttrain-rmse:0.41283\tval-rmse:0.43420\n",
      "[65]\ttrain-rmse:0.41226\tval-rmse:0.43400\n",
      "[66]\ttrain-rmse:0.41205\tval-rmse:0.43402\n",
      "[67]\ttrain-rmse:0.41157\tval-rmse:0.43388\n",
      "[68]\ttrain-rmse:0.41141\tval-rmse:0.43378\n",
      "[69]\ttrain-rmse:0.41107\tval-rmse:0.43377\n",
      "[70]\ttrain-rmse:0.41059\tval-rmse:0.43361\n",
      "[71]\ttrain-rmse:0.41022\tval-rmse:0.43365\n",
      "[72]\ttrain-rmse:0.40965\tval-rmse:0.43355\n",
      "[73]\ttrain-rmse:0.40945\tval-rmse:0.43354\n",
      "[74]\ttrain-rmse:0.40933\tval-rmse:0.43347\n",
      "[75]\ttrain-rmse:0.40876\tval-rmse:0.43336\n",
      "[76]\ttrain-rmse:0.40831\tval-rmse:0.43310\n",
      "[77]\ttrain-rmse:0.40801\tval-rmse:0.43306\n",
      "[78]\ttrain-rmse:0.40795\tval-rmse:0.43311\n",
      "[79]\ttrain-rmse:0.40768\tval-rmse:0.43304\n",
      "[80]\ttrain-rmse:0.40747\tval-rmse:0.43306\n",
      "[81]\ttrain-rmse:0.40726\tval-rmse:0.43313\n",
      "[82]\ttrain-rmse:0.40715\tval-rmse:0.43313\n",
      "[83]\ttrain-rmse:0.40684\tval-rmse:0.43313\n",
      "[84]\ttrain-rmse:0.40674\tval-rmse:0.43314\n",
      "[85]\ttrain-rmse:0.40626\tval-rmse:0.43299\n",
      "[86]\ttrain-rmse:0.40573\tval-rmse:0.43286\n",
      "[87]\ttrain-rmse:0.40554\tval-rmse:0.43291\n",
      "[88]\ttrain-rmse:0.40535\tval-rmse:0.43289\n",
      "[89]\ttrain-rmse:0.40511\tval-rmse:0.43285\n",
      "[90]\ttrain-rmse:0.40478\tval-rmse:0.43280\n",
      "[91]\ttrain-rmse:0.40457\tval-rmse:0.43269\n",
      "[92]\ttrain-rmse:0.40439\tval-rmse:0.43272\n",
      "[93]\ttrain-rmse:0.40429\tval-rmse:0.43272\n",
      "[94]\ttrain-rmse:0.40421\tval-rmse:0.43271\n",
      "[95]\ttrain-rmse:0.40406\tval-rmse:0.43272\n",
      "[96]\ttrain-rmse:0.40397\tval-rmse:0.43272\n",
      "[97]\ttrain-rmse:0.40361\tval-rmse:0.43269\n",
      "[98]\ttrain-rmse:0.40321\tval-rmse:0.43260\n",
      "[99]\ttrain-rmse:0.40277\tval-rmse:0.43250\n"
     ]
    }
   ],
   "source": [
    "xgb_params['eta'] = 0.1\n",
    "model = xgb.train(xgb_params, dtrain, num_boost_round=100, evals=watchlist)"
   ]
  },
  {
   "cell_type": "code",
   "execution_count": 22,
   "metadata": {},
   "outputs": [
    {
     "name": "stdout",
     "output_type": "stream",
     "text": [
      "[0]\ttrain-rmse:4.25336\tval-rmse:4.25010\n",
      "[1]\ttrain-rmse:4.21141\tval-rmse:4.20815\n",
      "[2]\ttrain-rmse:4.16988\tval-rmse:4.16661\n",
      "[3]\ttrain-rmse:4.12877\tval-rmse:4.12551\n",
      "[4]\ttrain-rmse:4.08807\tval-rmse:4.08481\n",
      "[5]\ttrain-rmse:4.04779\tval-rmse:4.04454\n",
      "[6]\ttrain-rmse:4.00792\tval-rmse:4.00467\n",
      "[7]\ttrain-rmse:3.96845\tval-rmse:3.96521\n",
      "[8]\ttrain-rmse:3.92937\tval-rmse:3.92615\n",
      "[9]\ttrain-rmse:3.89070\tval-rmse:3.88749\n",
      "[10]\ttrain-rmse:3.85242\tval-rmse:3.84921\n",
      "[11]\ttrain-rmse:3.81452\tval-rmse:3.81133\n",
      "[12]\ttrain-rmse:3.77701\tval-rmse:3.77382\n",
      "[13]\ttrain-rmse:3.73988\tval-rmse:3.73671\n",
      "[14]\ttrain-rmse:3.70313\tval-rmse:3.69996\n",
      "[15]\ttrain-rmse:3.66674\tval-rmse:3.66359\n",
      "[16]\ttrain-rmse:3.63073\tval-rmse:3.62759\n",
      "[17]\ttrain-rmse:3.59508\tval-rmse:3.59195\n",
      "[18]\ttrain-rmse:3.55979\tval-rmse:3.55666\n",
      "[19]\ttrain-rmse:3.52487\tval-rmse:3.52175\n",
      "[20]\ttrain-rmse:3.49030\tval-rmse:3.48719\n",
      "[21]\ttrain-rmse:3.45608\tval-rmse:3.45298\n",
      "[22]\ttrain-rmse:3.42220\tval-rmse:3.41910\n",
      "[23]\ttrain-rmse:3.38867\tval-rmse:3.38559\n",
      "[24]\ttrain-rmse:3.35548\tval-rmse:3.35240\n",
      "[25]\ttrain-rmse:3.32263\tval-rmse:3.31956\n",
      "[26]\ttrain-rmse:3.29011\tval-rmse:3.28706\n",
      "[27]\ttrain-rmse:3.25793\tval-rmse:3.25487\n",
      "[28]\ttrain-rmse:3.22606\tval-rmse:3.22302\n",
      "[29]\ttrain-rmse:3.19453\tval-rmse:3.19150\n",
      "[30]\ttrain-rmse:3.16332\tval-rmse:3.16029\n",
      "[31]\ttrain-rmse:3.13243\tval-rmse:3.12941\n",
      "[32]\ttrain-rmse:3.10184\tval-rmse:3.09884\n",
      "[33]\ttrain-rmse:3.07157\tval-rmse:3.06858\n",
      "[34]\ttrain-rmse:3.04161\tval-rmse:3.03863\n",
      "[35]\ttrain-rmse:3.01196\tval-rmse:3.00898\n",
      "[36]\ttrain-rmse:2.98261\tval-rmse:2.97966\n",
      "[37]\ttrain-rmse:2.95356\tval-rmse:2.95061\n",
      "[38]\ttrain-rmse:2.92480\tval-rmse:2.92190\n",
      "[39]\ttrain-rmse:2.89634\tval-rmse:2.89346\n",
      "[40]\ttrain-rmse:2.86817\tval-rmse:2.86533\n",
      "[41]\ttrain-rmse:2.84029\tval-rmse:2.83745\n",
      "[42]\ttrain-rmse:2.81268\tval-rmse:2.80988\n",
      "[43]\ttrain-rmse:2.78538\tval-rmse:2.78258\n",
      "[44]\ttrain-rmse:2.75834\tval-rmse:2.75558\n",
      "[45]\ttrain-rmse:2.73158\tval-rmse:2.72884\n",
      "[46]\ttrain-rmse:2.70510\tval-rmse:2.70238\n",
      "[47]\ttrain-rmse:2.67889\tval-rmse:2.67619\n",
      "[48]\ttrain-rmse:2.65294\tval-rmse:2.65027\n",
      "[49]\ttrain-rmse:2.62726\tval-rmse:2.62463\n",
      "[50]\ttrain-rmse:2.60185\tval-rmse:2.59925\n",
      "[51]\ttrain-rmse:2.57670\tval-rmse:2.57412\n",
      "[52]\ttrain-rmse:2.55181\tval-rmse:2.54923\n",
      "[53]\ttrain-rmse:2.52717\tval-rmse:2.52461\n",
      "[54]\ttrain-rmse:2.50278\tval-rmse:2.50025\n",
      "[55]\ttrain-rmse:2.47865\tval-rmse:2.47612\n",
      "[56]\ttrain-rmse:2.45477\tval-rmse:2.45227\n",
      "[57]\ttrain-rmse:2.43113\tval-rmse:2.42867\n",
      "[58]\ttrain-rmse:2.40774\tval-rmse:2.40530\n",
      "[59]\ttrain-rmse:2.38459\tval-rmse:2.38218\n",
      "[60]\ttrain-rmse:2.36167\tval-rmse:2.35927\n",
      "[61]\ttrain-rmse:2.33900\tval-rmse:2.33663\n",
      "[62]\ttrain-rmse:2.31655\tval-rmse:2.31421\n",
      "[63]\ttrain-rmse:2.29434\tval-rmse:2.29202\n",
      "[64]\ttrain-rmse:2.27236\tval-rmse:2.27006\n",
      "[65]\ttrain-rmse:2.25061\tval-rmse:2.24835\n",
      "[66]\ttrain-rmse:2.22908\tval-rmse:2.22684\n",
      "[67]\ttrain-rmse:2.20778\tval-rmse:2.20557\n",
      "[68]\ttrain-rmse:2.18670\tval-rmse:2.18450\n",
      "[69]\ttrain-rmse:2.16583\tval-rmse:2.16365\n",
      "[70]\ttrain-rmse:2.14519\tval-rmse:2.14303\n",
      "[71]\ttrain-rmse:2.12476\tval-rmse:2.12263\n",
      "[72]\ttrain-rmse:2.10454\tval-rmse:2.10242\n",
      "[73]\ttrain-rmse:2.08453\tval-rmse:2.08242\n",
      "[74]\ttrain-rmse:2.06474\tval-rmse:2.06266\n",
      "[75]\ttrain-rmse:2.04514\tval-rmse:2.04311\n",
      "[76]\ttrain-rmse:2.02576\tval-rmse:2.02374\n",
      "[77]\ttrain-rmse:2.00657\tval-rmse:2.00458\n",
      "[78]\ttrain-rmse:1.98759\tval-rmse:1.98561\n",
      "[79]\ttrain-rmse:1.96880\tval-rmse:1.96685\n",
      "[80]\ttrain-rmse:1.95022\tval-rmse:1.94827\n",
      "[81]\ttrain-rmse:1.93182\tval-rmse:1.92990\n",
      "[82]\ttrain-rmse:1.91362\tval-rmse:1.91172\n",
      "[83]\ttrain-rmse:1.89561\tval-rmse:1.89376\n",
      "[84]\ttrain-rmse:1.87778\tval-rmse:1.87594\n",
      "[85]\ttrain-rmse:1.86015\tval-rmse:1.85833\n",
      "[86]\ttrain-rmse:1.84270\tval-rmse:1.84091\n",
      "[87]\ttrain-rmse:1.82544\tval-rmse:1.82366\n",
      "[88]\ttrain-rmse:1.80834\tval-rmse:1.80660\n",
      "[89]\ttrain-rmse:1.79144\tval-rmse:1.78973\n",
      "[90]\ttrain-rmse:1.77472\tval-rmse:1.77302\n",
      "[91]\ttrain-rmse:1.75817\tval-rmse:1.75649\n",
      "[92]\ttrain-rmse:1.74181\tval-rmse:1.74016\n",
      "[93]\ttrain-rmse:1.72561\tval-rmse:1.72398\n",
      "[94]\ttrain-rmse:1.70958\tval-rmse:1.70797\n",
      "[95]\ttrain-rmse:1.69373\tval-rmse:1.69214\n",
      "[96]\ttrain-rmse:1.67804\tval-rmse:1.67647\n",
      "[97]\ttrain-rmse:1.66251\tval-rmse:1.66095\n",
      "[98]\ttrain-rmse:1.64716\tval-rmse:1.64563\n",
      "[99]\ttrain-rmse:1.63198\tval-rmse:1.63045\n"
     ]
    }
   ],
   "source": [
    "xgb_params['eta'] = 0.01\n",
    "model = xgb.train(xgb_params, dtrain, num_boost_round=100, evals=watchlist)"
   ]
  },
  {
   "cell_type": "markdown",
   "metadata": {},
   "source": [
    "Which eta leads to the best RMSE score on the validation dataset?\n",
    "\n",
    "* 0.3\n",
    "* 0.1\n",
    "* 0.01"
   ]
  },
  {
   "cell_type": "markdown",
   "metadata": {},
   "source": [
    "## Submit the results\n",
    "\n",
    "\n",
    "Submit your results here: https://forms.gle/wQgFkYE6CtdDed4w8\n",
    "\n",
    "It's possible that your answers won't match exactly. If it's the case, select the closest one.\n",
    "\n",
    "\n",
    "## Deadline\n",
    "\n",
    "\n",
    "The deadline for submitting is 20 October 2021, 17:00 CET (Wednesday). After that, the form will be closed.\n",
    "\n"
   ]
  }
 ],
 "metadata": {
  "kernelspec": {
   "display_name": "Python 3 (ipykernel)",
   "language": "python",
   "name": "python3"
  },
  "language_info": {
   "codemirror_mode": {
    "name": "ipython",
    "version": 3
   },
   "file_extension": ".py",
   "mimetype": "text/x-python",
   "name": "python",
   "nbconvert_exporter": "python",
   "pygments_lexer": "ipython3",
   "version": "3.8.11"
  }
 },
 "nbformat": 4,
 "nbformat_minor": 2
}
