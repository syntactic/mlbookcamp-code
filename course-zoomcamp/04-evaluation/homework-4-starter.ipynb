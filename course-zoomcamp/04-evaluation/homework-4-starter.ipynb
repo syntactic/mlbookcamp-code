{
 "cells": [
  {
   "cell_type": "markdown",
   "metadata": {},
   "source": [
    "## Homework 4\n",
    "\n",
    "Use this notebook as a starter"
   ]
  },
  {
   "cell_type": "code",
   "execution_count": 1,
   "metadata": {},
   "outputs": [],
   "source": [
    "import pandas as pd\n",
    "import numpy as np\n",
    "\n",
    "import matplotlib.pyplot as plt\n",
    "import seaborn as sns\n",
    "\n",
    "%matplotlib inline"
   ]
  },
  {
   "cell_type": "markdown",
   "metadata": {},
   "source": [
    "Data:\n",
    "\n",
    "- https://github.com/gastonstat/CreditScoring\n",
    "- Also available [here](https://raw.githubusercontent.com/alexeygrigorev/mlbookcamp-code/master/chapter-06-trees/CreditScoring.csv)"
   ]
  },
  {
   "cell_type": "code",
   "execution_count": 2,
   "metadata": {
    "scrolled": true
   },
   "outputs": [
    {
     "name": "stdout",
     "output_type": "stream",
     "text": [
      "--2021-10-03 22:17:41--  https://raw.githubusercontent.com/alexeygrigorev/mlbookcamp-code/master/chapter-06-trees/CreditScoring.csv\n",
      "Resolving raw.githubusercontent.com (raw.githubusercontent.com)... 185.199.109.133, 185.199.111.133, 185.199.108.133, ...\n",
      "Connecting to raw.githubusercontent.com (raw.githubusercontent.com)|185.199.109.133|:443... connected.\n",
      "HTTP request sent, awaiting response... 200 OK\n",
      "Length: 182489 (178K) [text/plain]\n",
      "Saving to: ‘CreditScoring.csv’\n",
      "\n",
      "CreditScoring.csv   100%[===================>] 178.21K  --.-KB/s    in 0.03s   \n",
      "\n",
      "2021-10-03 22:17:41 (5.89 MB/s) - ‘CreditScoring.csv’ saved [182489/182489]\n",
      "\n"
     ]
    }
   ],
   "source": [
    "!wget https://raw.githubusercontent.com/alexeygrigorev/mlbookcamp-code/master/chapter-06-trees/CreditScoring.csv"
   ]
  },
  {
   "cell_type": "markdown",
   "metadata": {},
   "source": [
    "## Preparation \n",
    "\n",
    "We'll talk about this dataset in more details in week 6. But for now, use the following code to get started"
   ]
  },
  {
   "cell_type": "code",
   "execution_count": 3,
   "metadata": {},
   "outputs": [],
   "source": [
    "df = pd.read_csv('CreditScoring.csv')\n",
    "df.columns = df.columns.str.lower()"
   ]
  },
  {
   "cell_type": "markdown",
   "metadata": {},
   "source": [
    "Some of the features are encoded as numbers. Use the following code to de-code them:"
   ]
  },
  {
   "cell_type": "code",
   "execution_count": 4,
   "metadata": {},
   "outputs": [],
   "source": [
    "status_values = {\n",
    "    1: 'ok',\n",
    "    2: 'default',\n",
    "    0: 'unk'\n",
    "}\n",
    "\n",
    "df.status = df.status.map(status_values)\n",
    "\n",
    "\n",
    "home_values = {\n",
    "    1: 'rent',\n",
    "    2: 'owner',\n",
    "    3: 'private',\n",
    "    4: 'ignore',\n",
    "    5: 'parents',\n",
    "    6: 'other',\n",
    "    0: 'unk'\n",
    "}\n",
    "\n",
    "df.home = df.home.map(home_values)\n",
    "\n",
    "marital_values = {\n",
    "    1: 'single',\n",
    "    2: 'married',\n",
    "    3: 'widow',\n",
    "    4: 'separated',\n",
    "    5: 'divorced',\n",
    "    0: 'unk'\n",
    "}\n",
    "\n",
    "df.marital = df.marital.map(marital_values)\n",
    "\n",
    "records_values = {\n",
    "    1: 'no',\n",
    "    2: 'yes',\n",
    "    0: 'unk'\n",
    "}\n",
    "\n",
    "df.records = df.records.map(records_values)\n",
    "\n",
    "job_values = {\n",
    "    1: 'fixed',\n",
    "    2: 'partime',\n",
    "    3: 'freelance',\n",
    "    4: 'others',\n",
    "    0: 'unk'\n",
    "}\n",
    "\n",
    "df.job = df.job.map(job_values)"
   ]
  },
  {
   "cell_type": "markdown",
   "metadata": {},
   "source": [
    "Prepare the numerical variables:"
   ]
  },
  {
   "cell_type": "code",
   "execution_count": 5,
   "metadata": {},
   "outputs": [],
   "source": [
    "for c in ['income', 'assets', 'debt']:\n",
    "    df[c] = df[c].replace(to_replace=99999999, value=0)"
   ]
  },
  {
   "cell_type": "markdown",
   "metadata": {},
   "source": [
    "Remove clients with unknown default status"
   ]
  },
  {
   "cell_type": "code",
   "execution_count": 6,
   "metadata": {},
   "outputs": [],
   "source": [
    "df = df[df.status != 'unk'].reset_index(drop=True)"
   ]
  },
  {
   "cell_type": "markdown",
   "metadata": {},
   "source": [
    "Create the target variable"
   ]
  },
  {
   "cell_type": "code",
   "execution_count": 7,
   "metadata": {},
   "outputs": [],
   "source": [
    "df['default'] = (df.status == 'default').astype(int)\n",
    "del df['status']"
   ]
  },
  {
   "cell_type": "markdown",
   "metadata": {},
   "source": [
    "## Your code"
   ]
  },
  {
   "cell_type": "markdown",
   "metadata": {},
   "source": [
    "What are the categorical variables? What are the numerical?"
   ]
  },
  {
   "cell_type": "code",
   "execution_count": 34,
   "metadata": {},
   "outputs": [
    {
     "name": "stdout",
     "output_type": "stream",
     "text": [
      "['home', 'marital', 'records', 'job']\n",
      "['seniority', 'time', 'age', 'expenses', 'income', 'assets', 'debt', 'amount', 'price']\n"
     ]
    }
   ],
   "source": [
    "df.head().T\n",
    "strings = list(df.dtypes[df.dtypes == 'object'].index)\n",
    "print(strings)\n",
    "numerical = [c for c in df.columns if c not in strings and c != 'default']\n",
    "print(numerical)"
   ]
  },
  {
   "cell_type": "markdown",
   "metadata": {},
   "source": [
    "Split the data into 3 parts: train/validation/test with 60%/20%/20% distribution. Use `train_test_split` funciton for that with `random_state=1`"
   ]
  },
  {
   "cell_type": "code",
   "execution_count": 47,
   "metadata": {},
   "outputs": [
    {
     "name": "stdout",
     "output_type": "stream",
     "text": [
      "2672 891 891\n"
     ]
    }
   ],
   "source": [
    "from sklearn.model_selection import train_test_split\n",
    "train_val, test = train_test_split(df, test_size=0.2, random_state=1)\n",
    "train, val = train_test_split(train_val, test_size=0.25, random_state=1)\n",
    "print(len(train), len(val), len(test))"
   ]
  },
  {
   "cell_type": "markdown",
   "metadata": {},
   "source": [
    "## Question 1\n",
    "\n",
    "ROC AUC could also be used to evaluate feature importance of numerical variables. \n",
    "\n",
    "Let's do that\n",
    "\n",
    "* For each numerical variable, use it as score and compute AUC with the \"default\" variable\n",
    "* Use the training dataset for that\n",
    "\n",
    "\n",
    "If your AUC is < 0.5, invert this variable by putting \"-\" in front\n",
    "\n",
    "(e.g. `-df_train['expenses']`)\n",
    "\n",
    "AUC can go below 0.5 if the variable is negatively correlated with the target varialble. You can change the direction of the correlation by negating this variable - then negative correlation becomes positive."
   ]
  },
  {
   "cell_type": "code",
   "execution_count": 48,
   "metadata": {},
   "outputs": [
    {
     "name": "stdout",
     "output_type": "stream",
     "text": [
      "[('expenses', 0.5009184217217011), ('price', 0.5043329862114843), ('debt', 0.5047829675783548), ('time', 0.5608662489595051), ('age', 0.5732933272499939), ('amount', 0.5910773431595518), ('assets', 0.6486042567122802), ('income', 0.682006666132633), ('seniority', 0.7093778624491943)]\n"
     ]
    }
   ],
   "source": [
    "from sklearn.metrics import roc_auc_score\n",
    "auc_scores = []\n",
    "for numerical_var in numerical:\n",
    "    auc_score = roc_auc_score(train[\"default\"], train[numerical_var])\n",
    "    if auc_score < 0.5:\n",
    "        auc_score = roc_auc_score(train[\"default\"], -train[numerical_var])\n",
    "    auc_scores.append((numerical_var, auc_score))\n",
    "    \n",
    "print(sorted(auc_scores, key=lambda x : x [1]))"
   ]
  },
  {
   "cell_type": "markdown",
   "metadata": {},
   "source": [
    "Which numerical variable (among the following 4) has the highest AUC?\n",
    "\n",
    "- seniority\n",
    "- time\n",
    "- income\n",
    "- debt"
   ]
  },
  {
   "cell_type": "markdown",
   "metadata": {},
   "source": [
    "## Training the model\n",
    "\n",
    "From now on, use these columns only:\n",
    "\n",
    "```\n",
    "['seniority', 'income', 'assets', 'records', 'job', 'home']\n",
    "```\n",
    "\n",
    "Apply one-hot-encoding using `DictVectorizer` and train the logistic regression with these parameters:\n",
    "\n",
    "```\n",
    "LogisticRegression(solver='liblinear', C=1.0, max_iter=1000)\n",
    "```"
   ]
  },
  {
   "cell_type": "code",
   "execution_count": 56,
   "metadata": {
    "scrolled": true
   },
   "outputs": [
    {
     "name": "stdout",
     "output_type": "stream",
     "text": [
      "[[0.0e+00 0.0e+00 0.0e+00 ... 1.0e+00 0.0e+00 1.2e+01]\n",
      " [0.0e+00 0.0e+00 1.0e+00 ... 1.0e+00 0.0e+00 4.0e+00]\n",
      " [6.0e+03 0.0e+00 0.0e+00 ... 1.0e+00 0.0e+00 0.0e+00]\n",
      " ...\n",
      " [0.0e+00 0.0e+00 0.0e+00 ... 0.0e+00 1.0e+00 9.0e+00]\n",
      " [3.0e+03 0.0e+00 0.0e+00 ... 1.0e+00 0.0e+00 0.0e+00]\n",
      " [0.0e+00 0.0e+00 0.0e+00 ... 1.0e+00 0.0e+00 8.0e+00]]\n",
      "[1.96864314e-01 1.17566872e-01 2.69819055e-01 1.23272338e-01\n",
      " 4.14165672e-02 6.03395745e-01 8.47304883e-01 2.30828468e-01\n",
      " 9.20154388e-01 3.40258877e-01 3.19615976e-01 6.28632920e-02\n",
      " 4.05809735e-01 4.06877803e-01 1.01942248e-01 7.06995276e-02\n",
      " 3.02017038e-02 2.74913047e-01 7.92667940e-01 5.23974453e-02\n",
      " 4.90722153e-01 1.33305263e-01 7.04823910e-02 1.78498053e-02\n",
      " 4.18152408e-01 5.33852409e-01 5.31609105e-01 1.02859953e-01\n",
      " 4.30786585e-01 2.42858519e-02 2.25437343e-01 4.93559218e-02\n",
      " 3.15445298e-01 1.23847857e-01 6.97466687e-01 8.41052013e-02\n",
      " 5.28889504e-02 6.76631171e-01 1.11294103e-01 1.21434289e-01\n",
      " 3.95984726e-01 1.00225343e-01 1.12215659e-01 1.76622232e-01\n",
      " 1.22913744e-01 5.37205801e-01 7.96486343e-01 6.94629910e-01\n",
      " 6.10214079e-02 2.27408164e-02 3.36418371e-01 1.06107930e-01\n",
      " 8.43867552e-02 5.33933800e-01 1.53052277e-01 5.56197895e-01\n",
      " 7.71534142e-01 4.06782627e-01 2.82628427e-01 3.35453241e-02\n",
      " 1.19186019e-01 6.07027168e-01 1.44635682e-01 6.16596580e-01\n",
      " 2.65230922e-01 6.24510217e-02 3.23247749e-01 3.82506128e-01\n",
      " 2.24728169e-01 7.50813881e-02 1.46563620e-02 9.09850765e-01\n",
      " 3.39451931e-01 3.95025001e-01 2.54644106e-01 3.75511458e-01\n",
      " 1.86521051e-01 9.29944883e-02 1.11444414e-01 1.95105717e-01\n",
      " 2.94806428e-01 2.48640938e-02 1.98344569e-01 5.47523032e-01\n",
      " 1.23972614e-01 2.31619038e-01 3.57590363e-01 2.05073766e-01\n",
      " 4.87741528e-01 6.98883598e-02 6.02518620e-01 3.50126084e-01\n",
      " 3.21467304e-01 1.28092512e-01 1.53228910e-01 3.90710536e-01\n",
      " 5.96971789e-01 2.01022034e-01 3.80635462e-02 6.03395745e-01\n",
      " 8.83212106e-01 7.95726952e-01 2.32828214e-01 3.90849172e-02\n",
      " 5.53098351e-01 1.70657360e-01 7.79766722e-01 3.30005464e-01\n",
      " 5.63419727e-01 2.47774728e-01 4.36807294e-02 9.25821558e-02\n",
      " 1.99887972e-01 2.07162006e-01 1.37947038e-01 4.58402130e-01\n",
      " 2.97500176e-01 2.46480959e-01 6.35661782e-01 1.41813162e-01\n",
      " 7.70619229e-02 6.50007397e-02 1.41249832e-01 4.62307447e-01\n",
      " 2.47047039e-01 1.67992519e-02 2.31762968e-01 1.53622502e-01\n",
      " 1.67379797e-01 5.13691760e-01 5.89293694e-02 6.19870933e-01\n",
      " 1.09455902e-01 1.98243108e-02 4.38831127e-01 1.17231188e-01\n",
      " 1.87021712e-01 2.00260772e-01 3.97199041e-02 1.44124367e-01\n",
      " 8.48197178e-02 3.51313906e-01 3.65317496e-01 1.26213392e-01\n",
      " 4.22881723e-02 2.84698345e-01 7.11146508e-02 2.93322893e-01\n",
      " 2.95536177e-01 1.01683916e-01 4.88273538e-01 9.07119237e-02\n",
      " 1.74430347e-01 7.99000839e-02 2.41641900e-01 1.03685215e-01\n",
      " 3.90730791e-01 6.82147917e-01 1.45894919e-01 1.08651279e-01\n",
      " 1.51998056e-01 3.34695694e-01 4.27237787e-01 2.45783545e-01\n",
      " 7.98161781e-02 5.73063584e-01 4.76092619e-01 1.03202802e-01\n",
      " 2.55596087e-01 2.13271683e-01 6.07203561e-01 4.45229802e-01\n",
      " 4.06180965e-01 6.32270333e-01 1.15916215e-01 6.41630759e-01\n",
      " 2.03517992e-01 2.01216081e-01 6.10311963e-01 1.96387154e-01\n",
      " 3.84207165e-03 1.34170406e-01 2.83031485e-02 1.70296045e-01\n",
      " 2.48009756e-01 1.75830801e-01 8.17023176e-02 4.69870752e-02\n",
      " 6.74270009e-02 7.12980889e-02 6.96563061e-02 2.13086255e-01\n",
      " 2.31813808e-01 4.93888326e-01 1.18945305e-01 4.12699068e-01\n",
      " 5.12251672e-01 1.57876638e-01 7.43791154e-02 2.26372819e-01\n",
      " 6.36901885e-01 6.68093784e-02 1.22524612e-01 3.84627659e-01\n",
      " 2.90313047e-02 5.20940885e-01 2.43172225e-01 2.27948048e-01\n",
      " 3.28771962e-01 1.77909734e-02 8.29124481e-02 2.07851675e-01\n",
      " 1.41924863e-01 8.26434425e-01 3.46053890e-01 4.04508964e-01\n",
      " 3.20663710e-01 4.11669571e-01 4.79951784e-01 1.62655494e-01\n",
      " 9.08816427e-02 1.91317434e-01 9.20499852e-01 6.51932340e-02\n",
      " 3.76854405e-02 3.69556408e-01 3.69487201e-01 7.02902052e-01\n",
      " 6.10322757e-01 6.41163092e-02 8.76563122e-02 2.06499293e-01\n",
      " 9.25753653e-01 7.62272359e-01 3.44198403e-02 1.07872926e-01\n",
      " 5.77008459e-01 6.93980184e-01 7.49853067e-01 8.00775353e-02\n",
      " 4.11889179e-01 2.26842425e-01 2.55208881e-01 6.17716600e-01\n",
      " 1.94160517e-01 5.60170590e-02 4.51037144e-01 5.34684808e-02\n",
      " 6.22760151e-01 3.22718198e-01 4.45358723e-02 3.76374252e-01\n",
      " 3.90284052e-01 9.98876533e-02 1.81384642e-01 4.50885913e-02\n",
      " 7.48514090e-01 1.26341779e-01 2.34306030e-01 3.41640197e-01\n",
      " 3.13787786e-01 1.19746056e-03 2.16316246e-01 3.54246636e-01\n",
      " 4.23496049e-02 5.40752859e-01 5.69020764e-01 5.32189717e-02\n",
      " 2.78848028e-01 4.93313659e-02 3.84131773e-01 1.74696478e-01\n",
      " 1.01759606e-01 6.45189125e-01 2.68863404e-02 8.96427727e-01\n",
      " 5.22800139e-02 2.07120362e-01 7.38165056e-01 1.50114238e-01\n",
      " 1.55019137e-01 8.25560397e-02 6.34420796e-02 3.86753586e-01\n",
      " 1.32740821e-01 5.19000015e-01 1.48195925e-01 3.45481076e-02\n",
      " 4.64600070e-01 1.16184581e-01 1.57637799e-01 4.54878609e-01\n",
      " 3.75302456e-01 2.43760848e-01 2.96476996e-01 2.49113913e-01\n",
      " 1.78220274e-01 3.52359456e-01 2.66911958e-02 1.47173261e-01\n",
      " 1.31939348e-01 8.38405338e-01 1.67480407e-01 4.71305379e-01\n",
      " 1.94550996e-01 6.99786148e-01 1.30679150e-01 7.63830898e-02\n",
      " 2.03259487e-01 1.75763275e-01 5.43662009e-01 6.81432991e-01\n",
      " 2.89640094e-02 7.14027757e-01 8.75567665e-01 6.83986933e-01\n",
      " 3.89969117e-01 8.85154508e-02 6.99786148e-01 3.44069115e-01\n",
      " 2.71777184e-01 6.49891032e-01 3.44500881e-02 9.04877019e-01\n",
      " 1.33176546e-02 3.92260150e-01 2.90338511e-01 6.32900760e-01\n",
      " 3.74895058e-02 2.85528349e-01 3.63202296e-01 8.65975610e-01\n",
      " 7.42355062e-01 6.53210968e-01 2.89248619e-01 9.85132861e-02\n",
      " 1.63601317e-01 2.71360588e-01 6.54894810e-01 6.53460121e-01\n",
      " 3.76633737e-02 5.40672805e-02 3.53031315e-01 2.31306143e-01\n",
      " 1.96155375e-01 6.25430374e-02 2.03259487e-01 2.01743599e-01\n",
      " 3.95743308e-01 1.10596513e-01 9.13679247e-02 2.18120244e-02\n",
      " 3.99262313e-01 3.35504372e-01 8.18388498e-01 1.85758099e-01\n",
      " 7.65329124e-01 1.19449806e-03 4.04795283e-01 3.15583349e-01\n",
      " 3.33746005e-01 6.63222761e-02 3.63989135e-01 3.88567338e-01\n",
      " 5.23894211e-01 1.77491999e-02 2.38690196e-01 1.54548074e-02\n",
      " 1.01295457e-01 7.89162945e-01 4.31011940e-03 3.73099578e-01\n",
      " 3.07662699e-01 6.37530920e-02 1.12133376e-01 3.44759649e-01\n",
      " 2.14851243e-01 5.05447632e-01 1.45487186e-02 9.00084757e-02\n",
      " 3.39951151e-01 6.36917394e-02 7.52585336e-02 5.27477590e-02\n",
      " 3.37151514e-01 6.93730160e-01 1.40492827e-01 6.98795420e-01\n",
      " 9.84154249e-02 1.19303047e-02 8.24735661e-01 3.55613251e-01\n",
      " 2.92365687e-01 1.56683698e-01 1.13449676e-01 1.14305593e-01\n",
      " 1.62360373e-01 6.92397642e-01 2.26014747e-02 1.14245651e-01\n",
      " 4.81568700e-02 2.36276711e-02 1.44481490e-01 5.97487182e-01\n",
      " 4.41971928e-01 1.23316404e-01 2.34812157e-01 2.78455666e-01\n",
      " 8.03268832e-03 7.49853067e-01 5.03904792e-01 2.03259487e-01\n",
      " 7.75567278e-02 2.50618720e-01 3.54176981e-01 6.07198676e-01\n",
      " 2.05730502e-02 2.43530089e-03 2.07786712e-01 5.13484825e-01\n",
      " 4.17030235e-02 4.58402130e-01 4.30300018e-01 2.95889355e-03\n",
      " 3.22294782e-01 3.76883232e-01 1.85778339e-01 2.37480106e-01\n",
      " 2.88855585e-01 2.33349158e-01 2.61238061e-01 2.23660401e-01\n",
      " 1.29639480e-01 3.71141793e-01 6.99786148e-01 7.74964843e-01\n",
      " 5.44274694e-01 5.47703053e-01 3.86981742e-02 5.01897604e-01\n",
      " 1.12135197e-01 1.50433228e-01 2.59417635e-01 1.00652681e-01\n",
      " 1.10083247e-01 6.17890305e-01 2.69819055e-01 2.03664999e-01\n",
      " 1.52946624e-01 4.20544520e-01 5.66317519e-01 5.95066733e-01\n",
      " 7.99874295e-01 2.30719419e-01 1.53892030e-01 3.96272144e-01\n",
      " 5.30616645e-02 1.17770134e-01 4.97744326e-02 1.46224788e-01\n",
      " 4.84816871e-02 2.92537093e-01 4.81790226e-01 4.30955972e-01\n",
      " 3.67845579e-02 1.54536322e-01 8.45411776e-02 2.61241796e-01\n",
      " 2.64488941e-01 1.47450986e-01 1.84021377e-01 1.48179135e-01\n",
      " 1.09370396e-01 8.45667589e-01 8.21649494e-01 3.76735628e-01\n",
      " 5.35034791e-02 5.66477199e-02 3.71653704e-01 1.78817457e-01\n",
      " 3.40013746e-02 4.07163518e-01 3.61089221e-01 3.89473577e-02\n",
      " 8.19130065e-02 1.03701824e-01 1.57602444e-01 2.74102062e-01\n",
      " 3.71579974e-01 5.83809364e-01 7.19737357e-01 1.48982092e-02\n",
      " 9.33146111e-01 1.64849782e-01 1.85132878e-02 1.00102882e-01\n",
      " 1.66205074e-02 1.79425525e-01 2.81800334e-01 5.11498561e-02\n",
      " 5.30288259e-01 1.17651651e-01 6.32562848e-01 6.25748548e-01\n",
      " 8.31809718e-01 1.97527236e-01 2.62872244e-02 7.65985387e-01\n",
      " 5.74141338e-02 2.95840428e-01 6.45092466e-01 1.29974028e-01\n",
      " 5.50993187e-02 4.84032812e-01 1.34162131e-01 1.56840182e-01\n",
      " 3.60783570e-01 6.27784200e-01 1.91177199e-01 1.67202734e-01\n",
      " 6.99786148e-01 1.16583571e-01 7.04350121e-02 3.83423703e-01\n",
      " 6.41346347e-01 1.66258713e-01 6.84380663e-01 2.92381813e-01\n",
      " 3.60409862e-02 2.66201983e-01 1.46959961e-01 4.38563941e-01\n",
      " 1.63874971e-02 8.57418115e-04 1.15693363e-01 4.09235634e-01\n",
      " 4.86371995e-01 8.36700698e-01 7.43291242e-01 8.19718291e-01\n",
      " 2.51585405e-01 3.41524927e-01 2.08067896e-02 6.57040237e-02\n",
      " 1.01224544e-01 1.43613151e-01 1.12141173e-01 7.60488175e-01\n",
      " 1.67870117e-02 8.20256947e-02 3.54178726e-01 1.43878215e-01\n",
      " 1.52190476e-01 1.56216817e-01 2.11989531e-01 2.39696250e-01\n",
      " 1.11387686e-01 7.27551099e-02 1.42868334e-01 5.60736117e-02\n",
      " 2.04820500e-01 3.11089325e-02 6.94150025e-01 3.92219462e-01\n",
      " 9.14826742e-02 6.96813765e-01 2.36893952e-01 4.73247150e-01\n",
      " 8.43550957e-02 5.78013350e-01 2.06262058e-01 2.77853275e-01\n",
      " 2.65180323e-01 1.81174948e-01 1.47717593e-01 1.21131567e-01\n",
      " 1.36064292e-01 1.65903675e-01 2.68949160e-02 1.57677708e-01\n",
      " 1.81327012e-01 3.38019847e-01 8.07741758e-02 1.36196382e-01\n",
      " 1.21536689e-01 5.00859418e-01 2.16488974e-01 1.23381951e-01\n",
      " 6.89209345e-02 6.55116381e-01 2.71993458e-01 3.83387118e-01\n",
      " 7.33759322e-02 8.19861625e-02 2.16521056e-01 1.27990815e-01\n",
      " 1.43685839e-02 1.08032464e-01 1.10103883e-01 5.63823062e-01\n",
      " 5.40752859e-01 3.92601798e-01 3.73349160e-02 3.94446399e-01\n",
      " 1.57677267e-02 2.80723374e-01 3.31881343e-01 2.57696322e-01\n",
      " 6.88829762e-01 2.81800334e-01 4.68423577e-01 2.00353144e-01\n",
      " 5.68827858e-01 9.00774823e-02 2.78646349e-02 3.79714170e-01\n",
      " 1.61159693e-01 1.00584432e-01 1.45825892e-01 9.37762801e-01\n",
      " 1.62766348e-01 1.25771792e-01 2.63916850e-01 4.39240693e-01\n",
      " 3.04282571e-01 2.84698345e-01 4.09506507e-02 1.39183700e-01\n",
      " 3.04623755e-01 5.30713657e-02 5.37244276e-01 3.11565425e-02\n",
      " 3.98819398e-01 1.80746206e-01 1.61179766e-01 4.47408427e-01\n",
      " 2.63040707e-01 6.83430655e-01 2.67946330e-01 5.67864984e-01\n",
      " 6.59802835e-01 5.03471548e-01 3.27446623e-01 3.42418649e-02\n",
      " 1.22743684e-01 5.25791525e-02 6.23426262e-01 3.84328843e-01\n",
      " 4.13072219e-01 4.05756553e-01 3.29094444e-01 9.45070222e-02\n",
      " 1.75070432e-01 7.82285061e-01 6.99036319e-02 2.11655790e-01\n",
      " 5.54129020e-01 3.05312655e-01 2.22253663e-01 3.23505272e-01\n",
      " 1.32042045e-01 4.28093389e-01 1.11973948e-01 1.29671801e-01\n",
      " 5.59679931e-01 6.90185730e-01 2.91819312e-02 1.28889497e-01\n",
      " 5.13005505e-01 8.89575412e-01 4.03714606e-01 2.65472733e-01\n",
      " 2.09299210e-02 4.11368692e-02 3.42277028e-01 2.54122670e-01\n",
      " 9.65341672e-02 5.35482728e-01 8.39263645e-02 7.24274245e-02\n",
      " 2.13353235e-01 3.25842624e-01 7.17761772e-01 1.44276900e-01\n",
      " 1.21478460e-01 9.53211790e-02 9.38432556e-02 4.63572868e-01\n",
      " 1.23830416e-01 1.32097784e-01 1.82964796e-01 2.79138025e-01\n",
      " 5.96537734e-01 3.07829044e-01 4.70790166e-02 2.33438267e-01\n",
      " 7.45189900e-02 1.78220274e-01 2.72328034e-01 4.23005206e-01\n",
      " 1.09483058e-01 2.53435336e-01 2.17123380e-01 4.86335312e-02\n",
      " 3.91404550e-01 5.53896227e-01 2.63521501e-01 3.10836884e-02\n",
      " 6.20396964e-02 5.48553869e-03 6.36873005e-01 5.53698026e-02\n",
      " 3.03343646e-01 5.73296013e-01 4.29175421e-01 8.29192712e-02\n",
      " 1.94200784e-01 1.45515824e-01 3.65925726e-01 3.09219251e-01\n",
      " 5.40752859e-01 1.27752937e-01 3.18328918e-02 5.32862208e-01\n",
      " 5.66863343e-01 1.72085893e-01 4.63283293e-01 1.97386852e-01\n",
      " 3.02511696e-01 1.02029289e-01 3.59440722e-01 2.23765444e-01\n",
      " 7.00330828e-02 5.00241841e-01 1.67118110e-01 3.15616562e-01\n",
      " 1.34986020e-01 4.49049066e-01 5.78229010e-01 9.94811106e-02\n",
      " 2.50090623e-01 5.03556267e-02 7.25004894e-02 3.15833070e-02\n",
      " 6.46266920e-01 2.12738485e-01 2.31986209e-02 2.91185375e-01\n",
      " 8.24246118e-02 3.86766137e-02 1.57656954e-01 8.72015651e-02\n",
      " 3.16189358e-01 6.21504049e-01 1.69368174e-01 2.28733523e-01\n",
      " 2.07120362e-01 4.80423162e-01 1.56929628e-01 6.14548106e-01\n",
      " 2.84329509e-02 1.03277561e-01 5.36909545e-01 8.18389318e-02\n",
      " 1.96647018e-02 2.80994284e-02 1.67460326e-01 1.11507729e-01\n",
      " 2.24253576e-01 1.88075369e-01 2.28918609e-01 6.54475450e-01\n",
      " 8.54865355e-03 1.48352529e-01 2.18362128e-01 3.89059997e-02\n",
      " 2.41331892e-01 8.62865051e-01 3.17314847e-01 2.73128084e-01\n",
      " 3.41337637e-01 3.23686586e-02 6.30354544e-01 1.97831929e-01\n",
      " 6.38148993e-01 1.10132538e-02 1.32886328e-02 1.86275743e-01\n",
      " 2.75815190e-01 3.91373993e-01 6.32486757e-01 7.99523616e-02\n",
      " 5.51245807e-01 3.69421072e-01 2.24091647e-01 3.02296814e-01\n",
      " 5.25326243e-01 3.98819398e-01 6.39806507e-02 1.22391063e-01\n",
      " 3.34695694e-01 4.18134285e-02 1.63879257e-01 5.54304617e-01\n",
      " 2.90054665e-01 5.34751777e-01 9.11133618e-02 5.67166958e-01\n",
      " 1.42750043e-02 2.66727339e-02 1.98010138e-01 8.38003758e-01\n",
      " 7.39300471e-01 4.35160469e-01 1.05947871e-01 1.55186525e-01\n",
      " 5.62318914e-01 3.38348632e-01 2.33353924e-01 4.50303667e-01\n",
      " 4.21286482e-02 6.61457257e-01 2.36306917e-01 5.18377196e-01\n",
      " 3.06042975e-02 1.47530526e-01 2.82485085e-01 1.26937404e-02\n",
      " 8.03725183e-02 3.19832441e-01 2.69104177e-01 4.53822165e-01\n",
      " 7.07122777e-01 4.10206502e-01 1.12111087e-02 6.88765710e-02\n",
      " 2.47071679e-01 4.38627678e-01 8.93807722e-02 6.57043266e-02\n",
      " 3.80015020e-02 4.60744288e-01 3.89035763e-01 1.44026479e-01\n",
      " 4.04589796e-01 5.01940917e-01 3.17207983e-01 3.38205226e-01\n",
      " 3.44211416e-02 3.87180610e-01 7.16521862e-02 3.45953716e-01\n",
      " 3.73201168e-01 6.04566388e-01 1.94994103e-01 9.94166957e-02\n",
      " 5.89133009e-02 7.60633910e-01 2.41200296e-01 4.20128269e-01\n",
      " 1.21505974e-01 1.51109262e-01 6.00071038e-01 8.39263410e-01\n",
      " 6.80899101e-01 1.73296283e-01 3.76931470e-02 9.07378642e-01\n",
      " 1.29288521e-01 1.14267190e-01 2.96225169e-01 3.88417202e-01\n",
      " 2.46169998e-01 1.19693189e-01 3.27914276e-01 1.85135792e-01\n",
      " 9.54046782e-02 1.11646819e-01 1.86914335e-02 4.77315090e-01\n",
      " 7.19948834e-01 8.36840445e-02 1.45815097e-01 4.83602847e-01\n",
      " 2.80927296e-01 1.67601976e-01 1.96340366e-01 5.40752859e-01\n",
      " 5.06061580e-01 4.41909480e-01 5.11176491e-01]\n"
     ]
    },
    {
     "data": {
      "text/plain": [
       "0.8120879813449298"
      ]
     },
     "execution_count": 56,
     "metadata": {},
     "output_type": "execute_result"
    }
   ],
   "source": [
    "from sklearn.feature_extraction import DictVectorizer\n",
    "dv = DictVectorizer(sparse=False)\n",
    "\n",
    "training_features = ['seniority', 'income', 'assets', 'records', 'job', 'home']\n",
    "\n",
    "train_dict = train[training_features].to_dict(orient='records')\n",
    "X_train = dv.fit_transform(train_dict)\n",
    "y_train = train[\"default\"]\n",
    "print(X_train)\n",
    "\n",
    "val_dict = val[training_features].to_dict(orient='records')\n",
    "X_val = dv.transform(val_dict)\n",
    "y_val = val[\"default\"]\n",
    "\n",
    "from sklearn.linear_model import LogisticRegression\n",
    "\n",
    "model = LogisticRegression(solver='liblinear', C=1.0, max_iter=1000)\n",
    "# solver='lbfgs' is the default solver in newer version of sklearn\n",
    "# for older versions, you need to specify it explicitly\n",
    "model.fit(X_train, y_train)\n",
    "y_val_pred = model.predict_proba(X_val)[:,1]\n",
    "print(y_val_pred)\n",
    "roc_auc_score(y_val, y_val_pred)"
   ]
  },
  {
   "cell_type": "markdown",
   "metadata": {},
   "source": [
    "## Question 2\n",
    "\n",
    "What's the AUC of this model on the validation dataset? (round to 3 digits)\n",
    "\n",
    "- 0.512\n",
    "- 0.612\n",
    "- 0.712\n",
    "- 0.812"
   ]
  },
  {
   "cell_type": "markdown",
   "metadata": {},
   "source": [
    "## Question 3\n",
    "\n",
    "Now let's compute precision and recall for our model.\n",
    "\n",
    "* Evaluate the model on all thresholds from 0.0 to 1.0 with step 0.01\n",
    "* For each threshold, compute precision and recall\n",
    "* Plot them"
   ]
  },
  {
   "cell_type": "code",
   "execution_count": 67,
   "metadata": {},
   "outputs": [
    {
     "name": "stdout",
     "output_type": "stream",
     "text": [
      "[0.   0.01 0.02 0.03 0.04 0.05 0.06 0.07 0.08 0.09 0.1  0.11 0.12 0.13\n",
      " 0.14 0.15 0.16 0.17 0.18 0.19 0.2  0.21 0.22 0.23 0.24 0.25 0.26 0.27\n",
      " 0.28 0.29 0.3  0.31 0.32 0.33 0.34 0.35 0.36 0.37 0.38 0.39 0.4  0.41\n",
      " 0.42 0.43 0.44 0.45 0.46 0.47 0.48 0.49 0.5  0.51 0.52 0.53 0.54 0.55\n",
      " 0.56 0.57 0.58 0.59 0.6  0.61 0.62 0.63 0.64 0.65 0.66 0.67 0.68 0.69\n",
      " 0.7  0.71 0.72 0.73 0.74 0.75 0.76 0.77 0.78 0.79 0.8  0.81 0.82 0.83\n",
      " 0.84 0.85 0.86 0.87 0.88 0.89 0.9  0.91 0.92 0.93 0.94 0.95 0.96 0.97\n",
      " 0.98 0.99 1.  ]\n"
     ]
    },
    {
     "name": "stderr",
     "output_type": "stream",
     "text": [
      "/var/folders/7s/5h000n6s2z75cbf4y33k39y40000gn/T/ipykernel_56864/3644441012.py:19: RuntimeWarning: invalid value encountered in long_scalars\n",
      "  scores.append((t, tp, fp, fn, tn, (tp / (tp+fp)), (tp / (tp + fn))))\n"
     ]
    },
    {
     "data": {
      "text/plain": [
       "[<matplotlib.lines.Line2D at 0x7f98f9ce26a0>]"
      ]
     },
     "execution_count": 67,
     "metadata": {},
     "output_type": "execute_result"
    },
    {
     "data": {
      "image/png": "[encoded data removed]",
      "text/plain": [
       "<Figure size 432x288 with 1 Axes>"
      ]
     },
     "metadata": {
      "needs_background": "light"
     },
     "output_type": "display_data"
    }
   ],
   "source": [
    "thresholds = np.linspace(0, 1, 101)\n",
    "print(thresholds)\n",
    "\n",
    "scores = []\n",
    "\n",
    "for t in thresholds:\n",
    "    actual_positive = (y_val == 1)\n",
    "    actual_negative = (y_val == 0)\n",
    "    \n",
    "    predict_positive = (y_val_pred >= t)\n",
    "    predict_negative = (y_val_pred < t)\n",
    "\n",
    "    tp = (predict_positive & actual_positive).sum()\n",
    "    tn = (predict_negative & actual_negative).sum()\n",
    "\n",
    "    fp = (predict_positive & actual_negative).sum()\n",
    "    fn = (predict_negative & actual_positive).sum()\n",
    "    \n",
    "    scores.append((t, tp, fp, fn, tn, (tp / (tp+fp)), (tp / (tp + fn))))\n",
    "    \n",
    "precisions = list(map(lambda x : x[5], scores))\n",
    "recalls = list(map(lambda x : x[6], scores))\n",
    "plt.plot(thresholds, precisions)\n",
    "plt.plot(thresholds, recalls)"
   ]
  },
  {
   "cell_type": "markdown",
   "metadata": {},
   "source": [
    "At which threshold precision and recall curves intersect?\n",
    "\n",
    "* 0.2\n",
    "* 0.4\n",
    "* 0.6\n",
    "* 0.8"
   ]
  },
  {
   "cell_type": "markdown",
   "metadata": {},
   "source": [
    "## Question 4\n",
    "\n",
    "Precision and recall are conflicting - when one grows, the other goes down. That's why they are often combined into the F1 score - a metrics that takes into account both\n",
    "\n",
    "This is the formula for computing F1:\n",
    "\n",
    "$$F_1 = 2 \\cdot \\cfrac{P \\cdot R}{P + R}$$\n",
    "\n",
    "Where $P$ is precision and $R$ is recall.\n",
    "\n",
    "Let's compute F1 for all thresholds from 0.0 to 1.0 with increment 0.01"
   ]
  },
  {
   "cell_type": "code",
   "execution_count": 73,
   "metadata": {},
   "outputs": [
    {
     "name": "stdout",
     "output_type": "stream",
     "text": [
      "[(0.0, 0.43271767810026385), (0.01, 0.4365572315882875), (0.02, 0.442429737080689), (0.03, 0.4477335800185014), (0.04, 0.46051379638439577), (0.05, 0.46317829457364346), (0.06, 0.47279920870425324), (0.07, 0.4812942366026289), (0.08, 0.4917355371900827), (0.09, 0.5015873015873017), (0.1, 0.5075593952483801), (0.11, 0.5138427464008859), (0.12, 0.5257142857142857), (0.13, 0.5394581861012957), (0.14, 0.5478468899521531), (0.15, 0.562268803945746), (0.16, 0.5652724968314322), (0.17, 0.5699481865284974), (0.18, 0.5778364116094987), (0.19, 0.5879194630872484), (0.2, 0.5906593406593407), (0.21, 0.5952045133991537), (0.22, 0.6054519368723099), (0.23, 0.6072992700729927), (0.24, 0.6107784431137725), (0.25, 0.6137404580152672), (0.26, 0.6108527131782946), (0.27, 0.6117274167987321), (0.28, 0.617124394184168), (0.29, 0.6217105263157895), (0.3, 0.6285714285714286), (0.31, 0.6279863481228668), (0.32, 0.6273830155979202), (0.33, 0.6219081272084805), (0.34, 0.6220614828209765), (0.35000000000000003, 0.6176470588235294), (0.36, 0.6142322097378277), (0.37, 0.6133333333333333), (0.38, 0.6031128404669261), (0.39, 0.5936254980079682), (0.4, 0.5761316872427984), (0.41000000000000003, 0.5726315789473686), (0.42, 0.5671641791044776), (0.43, 0.5572354211663066), (0.44, 0.5582417582417583), (0.45, 0.551111111111111), (0.46, 0.5540540540540541), (0.47000000000000003, 0.547945205479452), (0.48, 0.5450346420323325), (0.49, 0.5399061032863849), (0.5, 0.5377358490566039), (0.51, 0.5288461538461539), (0.52, 0.5134474327628361), (0.53, 0.5123152709359606), (0.54, 0.505050505050505), (0.55, 0.4948453608247423), (0.56, 0.4776902887139108), (0.5700000000000001, 0.4516129032258065), (0.58, 0.44141689373297005), (0.59, 0.4371584699453552), (0.6, 0.430939226519337), (0.61, 0.4124293785310734), (0.62, 0.4034582132564842), (0.63, 0.39766081871345027), (0.64, 0.37237237237237236), (0.65, 0.36085626911314983), (0.66, 0.3302180685358255), (0.67, 0.33125), (0.68, 0.33228840125391845), (0.6900000000000001, 0.3076923076923077), (0.7000000000000001, 0.24749163879598665), (0.71, 0.2424242424242424), (0.72, 0.22525597269624573), (0.73, 0.22525597269624573), (0.74, 0.21305841924398625), (0.75, 0.1958041958041958), (0.76, 0.1958041958041958), (0.77, 0.18505338078291814), (0.78, 0.16546762589928057), (0.79, 0.15942028985507245), (0.8, 0.15441176470588236), (0.81, 0.15441176470588236), (0.8200000000000001, 0.14814814814814817), (0.8300000000000001, 0.1348314606741573), (0.84, 0.09923664122137404), (0.85, 0.08461538461538463), (0.86, 0.08461538461538463), (0.87, 0.0697674418604651), (0.88, 0.06225680933852141), (0.89, 0.054901960784313725), (0.9, 0.04724409448818898), (0.91, 0.03187250996015937), (0.92, 0.03187250996015937), (0.93, 0.01612903225806452), (0.9400000000000001, nan), (0.9500000000000001, nan), (0.96, nan), (0.97, nan), (0.98, nan), (0.99, nan), (1.0, nan)]\n",
      "[(0.93, 0.01612903225806452), (0.91, 0.03187250996015937), (0.92, 0.03187250996015937), (0.9, 0.04724409448818898), (0.89, 0.054901960784313725), (0.88, 0.06225680933852141), (0.87, 0.0697674418604651), (0.85, 0.08461538461538463), (0.86, 0.08461538461538463), (0.84, 0.09923664122137404), (0.8300000000000001, 0.1348314606741573), (0.8200000000000001, 0.14814814814814817), (0.8, 0.15441176470588236), (0.81, 0.15441176470588236), (0.79, 0.15942028985507245), (0.78, 0.16546762589928057), (0.77, 0.18505338078291814), (0.75, 0.1958041958041958), (0.76, 0.1958041958041958), (0.74, 0.21305841924398625), (0.72, 0.22525597269624573), (0.73, 0.22525597269624573), (0.71, 0.2424242424242424), (0.7000000000000001, 0.24749163879598665), (0.6900000000000001, 0.3076923076923077), (0.66, 0.3302180685358255), (0.67, 0.33125), (0.68, 0.33228840125391845), (0.65, 0.36085626911314983), (0.64, 0.37237237237237236), (0.63, 0.39766081871345027), (0.62, 0.4034582132564842), (0.61, 0.4124293785310734), (0.6, 0.430939226519337), (0.0, 0.43271767810026385), (0.01, 0.4365572315882875), (0.59, 0.4371584699453552), (0.58, 0.44141689373297005), (0.02, 0.442429737080689), (0.03, 0.4477335800185014), (0.5700000000000001, 0.4516129032258065), (0.04, 0.46051379638439577), (0.05, 0.46317829457364346), (0.06, 0.47279920870425324), (0.56, 0.4776902887139108), (0.07, 0.4812942366026289), (0.08, 0.4917355371900827), (0.55, 0.4948453608247423), (0.09, 0.5015873015873017), (0.54, 0.505050505050505), (0.1, 0.5075593952483801), (0.53, 0.5123152709359606), (0.52, 0.5134474327628361), (0.11, 0.5138427464008859), (0.12, 0.5257142857142857), (0.51, 0.5288461538461539), (0.5, 0.5377358490566039), (0.13, 0.5394581861012957), (0.49, 0.5399061032863849), (0.48, 0.5450346420323325), (0.14, 0.5478468899521531), (0.47000000000000003, 0.547945205479452), (0.45, 0.551111111111111), (0.46, 0.5540540540540541), (0.43, 0.5572354211663066), (0.44, 0.5582417582417583), (0.15, 0.562268803945746), (0.16, 0.5652724968314322), (0.42, 0.5671641791044776), (0.17, 0.5699481865284974), (0.41000000000000003, 0.5726315789473686), (0.4, 0.5761316872427984), (0.18, 0.5778364116094987), (0.19, 0.5879194630872484), (0.2, 0.5906593406593407), (0.39, 0.5936254980079682), (0.21, 0.5952045133991537), (0.38, 0.6031128404669261), (0.22, 0.6054519368723099), (0.23, 0.6072992700729927), (0.24, 0.6107784431137725), (0.26, 0.6108527131782946), (0.27, 0.6117274167987321), (0.37, 0.6133333333333333), (0.25, 0.6137404580152672), (0.36, 0.6142322097378277), (0.28, 0.617124394184168), (0.35000000000000003, 0.6176470588235294), (0.29, 0.6217105263157895), (0.33, 0.6219081272084805), (0.34, 0.6220614828209765), (0.32, 0.6273830155979202), (0.31, 0.6279863481228668), (0.3, 0.6285714285714286), (0.9400000000000001, nan), (0.9500000000000001, nan), (0.96, nan), (0.97, nan), (0.98, nan), (0.99, nan), (1.0, nan)]\n"
     ]
    }
   ],
   "source": [
    "f1s = []\n",
    "for score in scores:\n",
    "    precision = score[5]\n",
    "    recall = score[6]\n",
    "    f1s.append((score[0], 2*((precision * recall) / (precision + recall))))\n",
    "\n",
    "print(f1s)\n",
    "print(sorted(f1s, key=lambda x:x[1]))"
   ]
  },
  {
   "cell_type": "markdown",
   "metadata": {},
   "source": [
    "At which threshold F1 is maximal?\n",
    "\n",
    "- 0.1\n",
    "- 0.3\n",
    "- 0.5\n",
    "- 0.7"
   ]
  },
  {
   "cell_type": "markdown",
   "metadata": {},
   "source": [
    "## Question 5\n",
    "\n",
    "\n",
    "Use the `KFold` class from Scikit-Learn to evaluate our model on 5 different folds:\n",
    "\n",
    "```\n",
    "KFold(n_splits=5, shuffle=True, random_state=1)\n",
    "```\n",
    "\n",
    "* Iterate over different folds of `df_full_train`\n",
    "* Split the data into train and validation\n",
    "* Train the model on train with these parameters: `LogisticRegression(solver='liblinear', C=1.0, max_iter=1000)`\n",
    "* Use AUC to evaluate the model on validation\n"
   ]
  },
  {
   "cell_type": "code",
   "execution_count": 83,
   "metadata": {},
   "outputs": [
    {
     "name": "stdout",
     "output_type": "stream",
     "text": [
      "[0.8256212256212256, 0.8254077031563474, 0.789298525308888, 0.8153421373265731, 0.8054696294614563]\n",
      "0.013669069470482898\n"
     ]
    }
   ],
   "source": [
    "from sklearn.model_selection import KFold\n",
    "\n",
    "def train(df_train, y_train, C=1.0):\n",
    "    dicts = df_train[training_features].to_dict(orient='records')\n",
    "\n",
    "    dv = DictVectorizer(sparse=False)\n",
    "    X_train = dv.fit_transform(dicts)\n",
    "\n",
    "    model = LogisticRegression(solver='liblinear', C=C, max_iter=1000)\n",
    "    model.fit(X_train, y_train)\n",
    "    \n",
    "    return dv, model\n",
    "\n",
    "def predict(df, dv, model):\n",
    "    dicts = df[training_features].to_dict(orient='records')\n",
    "\n",
    "    X = dv.transform(dicts)\n",
    "    y_pred = model.predict_proba(X)[:, 1]\n",
    "\n",
    "    return y_pred\n",
    "\n",
    "kfold = KFold(n_splits=5, shuffle=True, random_state=1)\n",
    "scores = []\n",
    "\n",
    "for train_idx, val_idx in kfold.split(train_val):\n",
    "    df_train = train_val.iloc[train_idx]\n",
    "    df_val = train_val.iloc[val_idx]\n",
    "\n",
    "    y_train = df_train.default.values\n",
    "    y_val = df_val.default.values\n",
    "\n",
    "    dv, model = train(df_train, y_train, C=1.0)\n",
    "    y_pred = predict(df_val, dv, model)\n",
    "\n",
    "    auc = roc_auc_score(y_val, y_pred)\n",
    "    scores.append(auc)\n",
    "    \n",
    "print(scores)\n",
    "print(np.std(scores))"
   ]
  },
  {
   "cell_type": "markdown",
   "metadata": {},
   "source": [
    "How large is standard devidation of the scores across different folds?\n",
    "\n",
    "- 0.001\n",
    "- 0.014\n",
    "- 0.09\n",
    "- 0.14"
   ]
  },
  {
   "cell_type": "markdown",
   "metadata": {},
   "source": [
    "## Question 6\n",
    "\n",
    "Now let's use 5-Fold cross-validation to find the best parameter C\n",
    "\n",
    "* Iterate over the following C values: `[0.01, 0.1, 1, 10]`\n",
    "* Initialize `KFold` with the same parameters as previously\n",
    "* Use these parametes for the model: `LogisticRegression(solver='liblinear', C=C, max_iter=1000)`\n",
    "* Compute the mean score as well as the std (round the mean and std to 3 decimal digits)"
   ]
  },
  {
   "cell_type": "code",
   "execution_count": 84,
   "metadata": {},
   "outputs": [
    {
     "name": "stdout",
     "output_type": "stream",
     "text": [
      "C=0.01 0.809 +- 0.013\n",
      "C=0.1 0.813 +- 0.014\n",
      "C=1 0.812 +- 0.014\n",
      "C=10 0.814 +- 0.015\n"
     ]
    }
   ],
   "source": [
    "C_candidates = [0.01, 0.1, 1, 10]\n",
    "for C in C_candidates:\n",
    "        kfold = KFold(n_splits=5, shuffle=True, random_state=1)\n",
    "        scores = []\n",
    "\n",
    "        for train_idx, val_idx in kfold.split(train_val):\n",
    "            df_train = train_val.iloc[train_idx]\n",
    "            df_val = train_val.iloc[val_idx]\n",
    "\n",
    "            y_train = df_train.default.values\n",
    "            y_val = df_val.default.values\n",
    "\n",
    "            dv, model = train(df_train, y_train, C=C)\n",
    "            y_pred = predict(df_val, dv, model)\n",
    "\n",
    "            auc = roc_auc_score(y_val, y_pred)\n",
    "            scores.append(auc)\n",
    "            \n",
    "        print('C=%s %.3f +- %.3f' % (C, np.mean(scores), np.std(scores)))"
   ]
  },
  {
   "cell_type": "markdown",
   "metadata": {},
   "source": [
    "Which C leads to the best mean score?\n",
    "\n",
    "- 0.01\n",
    "- 0.1\n",
    "- 1\n",
    "- 10\n",
    "\n",
    "If you have ties, select the score with the lowest std. If you still have ties, select the smallest C"
   ]
  },
  {
   "cell_type": "code",
   "execution_count": null,
   "metadata": {},
   "outputs": [],
   "source": []
  },
  {
   "cell_type": "markdown",
   "metadata": {},
   "source": [
    "## Submit the results\n",
    "\n",
    "Submit your results here: https://forms.gle/e497sR5iB36mM9Cs5\n",
    "\n",
    "It's possible that your answers won't match exactly. If it's the case, select the closest one.\n",
    "\n",
    "## Deadline\n",
    "\n",
    "The deadline for submitting is 04 October 2021, 17:00 CET. After that, the form will be closed."
   ]
  },
  {
   "cell_type": "code",
   "execution_count": null,
   "metadata": {},
   "outputs": [],
   "source": []
  }
 ],
 "metadata": {
  "kernelspec": {
   "display_name": "Python 3 (ipykernel)",
   "language": "python",
   "name": "python3"
  },
  "language_info": {
   "codemirror_mode": {
    "name": "ipython",
    "version": 3
   },
   "file_extension": ".py",
   "mimetype": "text/x-python",
   "name": "python",
   "nbconvert_exporter": "python",
   "pygments_lexer": "ipython3",
   "version": "3.8.11"
  }
 },
 "nbformat": 4,
 "nbformat_minor": 2
}
